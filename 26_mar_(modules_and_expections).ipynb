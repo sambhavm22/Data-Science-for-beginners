{
 "cells": [
  {
   "cell_type": "markdown",
   "metadata": {},
   "source": [
    "# Q1. percentile-and-quantile-coding\n",
    "\n",
    "Build an interactive calculator that computes the quantile or percentile of the input list according to the formula and the n, i.e (list, formula, n). Calculator should follow the following rules:\n",
    "\n",
    "1. If the length of the input list is 0, raise Exception with the message \"Null value passed\"\n",
    "2. If the formula is either \"Quantile\" or \"Percentile\", return the nth percentile/quantile of the list.\n",
    "3. If the formula entered is other than \"Quantile\" or \"Percentile\", raise Exception with message \"Formula Error: Wrong Formula\n",
    "\n",
    "NOTE: np is an alias for NumPy\n",
    "\n",
    "Input Format\n",
    "\n",
    "Space separated values\n",
    "\n",
    "List of Numbers The formula to be computed The value n\n",
    "\n",
    "\n",
    "Output Format\n",
    "\n",
    "The required output as per the question\n",
    "\n",
    "\n",
    "Example Input\n",
    "\n",
    "1 2 3 4 5 6 7\n",
    "\n",
    "Percentile\n",
    "\n",
    "25            #formula is \"Percentile\"\n",
    "\n",
    "\n",
    "Example Output\n",
    "\n",
    "2.5 \n",
    "\n",
    "\n",
    "Example Explanation\n",
    "\n",
    "The 25th Percentile of the given list is 2.5.\n",
    "\n",
    "In the statements given below np is actually the alias for NumPy.\n",
    "\n",
    "np.percentile(arr,n) function is used to compute the nth percentile of the given data (list).\n",
    "\n",
    "np.quantile(arr, n) Computes the nth quantile of the given data (list).\n"
   ]
  },
  {
   "cell_type": "code",
   "execution_count": 1,
   "metadata": {},
   "outputs": [],
   "source": [
    "import numpy as np\n",
    "def calc(a,b,c):\n",
    "    \"\"\"\n",
    "    a is list, b is string, c is integer\n",
    "    return the exception in msg \n",
    "    \"\"\"\n",
    "    try:\n",
    "    #YOUR CODE GOES HERE\n",
    "        if len(a) == 0:\n",
    "            raise Exception(\"Null value passed\")\n",
    "        else:\n",
    "            if b == \"Percentile\":\n",
    "                return np.percentile(a, c)\n",
    "            elif  b == \"Quantile\":\n",
    "                return np.quantile(a, c)\n",
    "            else:\n",
    "                raise Exception(\"Formula Error: Wrong Formula\")\n",
    "\n",
    "    except Exception as e:\n",
    "    #YOUR CODE GOES HERE\n",
    "        return e"
   ]
  },
  {
   "cell_type": "code",
   "execution_count": 2,
   "metadata": {},
   "outputs": [
    {
     "data": {
      "text/plain": [
       "Exception('Null value passed')"
      ]
     },
     "execution_count": 2,
     "metadata": {},
     "output_type": "execute_result"
    }
   ],
   "source": [
    "calc(a=[],b='Percentile',c=25)"
   ]
  },
  {
   "cell_type": "code",
   "execution_count": 3,
   "metadata": {},
   "outputs": [
    {
     "data": {
      "text/plain": [
       "3.25"
      ]
     },
     "execution_count": 3,
     "metadata": {},
     "output_type": "execute_result"
    }
   ],
   "source": [
    "calc(a=[2,3,5,6,7,4,5,3,8,9],b='Percentile',c=25)"
   ]
  },
  {
   "cell_type": "code",
   "execution_count": 4,
   "metadata": {},
   "outputs": [
    {
     "data": {
      "text/plain": [
       "Exception('Formula Error: Wrong Formula')"
      ]
     },
     "execution_count": 4,
     "metadata": {},
     "output_type": "execute_result"
    }
   ],
   "source": [
    "calc(a=[2,3,5,6,7,4,5,3,8,9],b='ercentile',c=25)"
   ]
  }
 ],
 "metadata": {
  "kernelspec": {
   "display_name": "Python 3.9 (tensorflow)",
   "language": "python",
   "name": "tensorflow"
  },
  "language_info": {
   "codemirror_mode": {
    "name": "ipython",
    "version": 3
   },
   "file_extension": ".py",
   "mimetype": "text/x-python",
   "name": "python",
   "nbconvert_exporter": "python",
   "pygments_lexer": "ipython3",
   "version": "3.9.18"
  },
  "orig_nbformat": 4
 },
 "nbformat": 4,
 "nbformat_minor": 2
}
