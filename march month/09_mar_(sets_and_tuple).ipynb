{
 "cells": [
  {
   "cell_type": "markdown",
   "metadata": {},
   "source": [
    "## Q1. Divide the tuple\n",
    "\n",
    "Write a program to divide a given tuple into two tuples that contain even and odd indexed elements of the original tuple. Print both these tuples in the given output format.\n",
    "\n",
    "Note: The input tuple follows 1-based indexing. This means the element at index 0 is treated as having index as 1.\n",
    "\n",
    "For example, (9,2,3). The 1-based index of 2 is 2.\n",
    "\n",
    "Input Format:\n",
    "\n",
    "The input contains a tuple as an argument to the function.\n",
    "\n",
    "Output Format:\n",
    "\n",
    "Print two tuples one for odd indexed elements and another for even indexed elements in the following format:\n",
    "\n",
    "Odd: (....)\n",
    "\n",
    "Even: (....)\n",
    "\n",
    "Sample Input:\n",
    "\n",
    "\n",
    "(10, 8, 5, 2, 10, 15, 10, 8, 5, 8, 8, 2)\n",
    "\n",
    "Sample Output:\n",
    "\n",
    "Odd: (10, 5, 10, 10, 5, 8)\n",
    "\n",
    "Even: (8, 2, 15, 8, 8, 2)\n"
   ]
  },
  {
   "cell_type": "code",
   "execution_count": 1,
   "metadata": {},
   "outputs": [],
   "source": [
    "def odd_even_split_tuple(tup):\n",
    "    ''' input: tup - indicates the tuple\n",
    "        output: return two tuples, one for even-indexed and one for odd-indexed elements'''\n",
    "\n",
    "    odd = tuple(tup[i] for i in range(0, len(tup), 2))\n",
    "    even = tuple(tup[i] for i in range(1, len(tup), 2))\n",
    "\n",
    "    print(\"Odd:\", odd)\n",
    "    print(\"Even:\", even)"
   ]
  },
  {
   "cell_type": "code",
   "execution_count": 2,
   "metadata": {},
   "outputs": [
    {
     "name": "stdout",
     "output_type": "stream",
     "text": [
      "Odd: (10, 5, 10, 10, 5, 8)\n",
      "Even: (8, 2, 15, 8, 8, 2)\n"
     ]
    }
   ],
   "source": [
    "odd_even_split_tuple((10, 8, 5, 2, 10, 15, 10, 8, 5, 8, 8, 2))"
   ]
  },
  {
   "cell_type": "markdown",
   "metadata": {},
   "source": [
    "## Q2. Unique words count\n",
    "\n",
    "Given two sentences, write a program to return the sum of the total number of unique words from each sentence.\n",
    "\n",
    "Input Format:\n",
    "\n",
    "The first line indicates the number of test cases.There will be two lines of inputs for each test cases as following:\n",
    "\n",
    "The two lines consist of two sentences in string format.\n",
    "\n",
    "Output Format:\n",
    "\n",
    "The number of unique words from the sentences in integer format.\n",
    "\n",
    "Sample Input:\n",
    "\n",
    "\n",
    "in data analysis we use data and process it further to create better interpreted data\n",
    "more and more data will be passively collected\n",
    "\n",
    "Sample Output:\n",
    "\n",
    "20\n",
    "\n",
    "Sample explanation:\n",
    "\n",
    "{'use', 'process', 'create', 'better', 'analysis', 'in', 'it', 'further', 'and', 'we', 'data', 'interpreted', 'to'} \n",
    "\n",
    "represent the 13 unique words from sentence1 and {'collected', 'more', 'be', 'and', 'data', 'passively', 'will'} \n",
    "\n",
    "represent the 7 unique words from sentence2. \n",
    "Therefore 13 + 7 = 20 is returned.\n"
   ]
  },
  {
   "cell_type": "code",
   "execution_count": 3,
   "metadata": {},
   "outputs": [],
   "source": [
    "def set_operation(sent1,sent2):\n",
    "    ''' input:sent1,sent2-two sentences taken as inputs\n",
    "        output:return the sum of length of unique words.'''\n",
    "    \n",
    "    # YOUR CODE GOES HERE\n",
    "    sent1 = sent1.split(\" \")\n",
    "    sent2 = sent2.split(\" \")\n",
    "    sent1 = set(sent1)\n",
    "    sent2 = set(sent2)\n",
    "\n",
    "    return len(sent1) + len(sent2)"
   ]
  },
  {
   "cell_type": "code",
   "execution_count": 4,
   "metadata": {},
   "outputs": [
    {
     "data": {
      "text/plain": [
       "20"
      ]
     },
     "execution_count": 4,
     "metadata": {},
     "output_type": "execute_result"
    }
   ],
   "source": [
    "set_operation(sent1=\"in data analysis we use data and process it further to create better interpreted data\", sent2=\"more and more data will be passively collected\")"
   ]
  },
  {
   "cell_type": "markdown",
   "metadata": {},
   "source": [
    "## Q3. Frequency of unique elements\n",
    "\n",
    "Write a function to print out the frequency of all the unique elements present in a given tuple.\n",
    "\n",
    "Input Format:\n",
    "\n",
    "The one input line consists of a tuple.\n",
    "\n",
    "Output Format:\n",
    "\n",
    "Unique elements and their frequencies are expected to be printed as follows:\n",
    "\n",
    "unique_element1 : freq1\n",
    "unique_element2 : freq2\n",
    ".\n",
    ".\n",
    "\n",
    "Sample Input:\n",
    "\n",
    "(10, 8, 5, 2, 10, 15, 10, 8, 5, 8, 8, 2)\n",
    "\n",
    "Sample Output:\n",
    "\n",
    "10 : 3\n",
    "\n",
    "8 : 4\n",
    "\n",
    "5 : 2\n",
    "\n",
    "2 : 2\n",
    "\n",
    "15 : 1"
   ]
  },
  {
   "cell_type": "code",
   "execution_count": 3,
   "metadata": {},
   "outputs": [
    {
     "data": {
      "text/plain": [
       "{10: 3, 8: 4, 5: 2, 2: 2, 15: 1}"
      ]
     },
     "execution_count": 3,
     "metadata": {},
     "output_type": "execute_result"
    }
   ],
   "source": [
    "input_list = (10, 8, 5, 2, 10, 15, 10, 8, 5, 8, 8, 2)\n",
    "dict_ = dict()\n",
    "\n",
    "for num in input_list:\n",
    "    dict_.update({num : input_list.count(num)})\n",
    "\n",
    "dict_"
   ]
  },
  {
   "cell_type": "markdown",
   "metadata": {},
   "source": [
    "### OR"
   ]
  },
  {
   "cell_type": "code",
   "execution_count": 4,
   "metadata": {},
   "outputs": [
    {
     "data": {
      "text/plain": [
       "{10: 3, 8: 4, 5: 2, 2: 2, 15: 1}"
      ]
     },
     "execution_count": 4,
     "metadata": {},
     "output_type": "execute_result"
    }
   ],
   "source": [
    "input_list = (10, 8, 5, 2, 10, 15, 10, 8, 5, 8, 8, 2)\n",
    "dict_ = dict()\n",
    "\n",
    "for i in input_list:\n",
    "    if i in dict_:\n",
    "        dict_[i] +=1\n",
    "    else:\n",
    "        dict_[i] = 1\n",
    "\n",
    "dict_"
   ]
  },
  {
   "cell_type": "markdown",
   "metadata": {},
   "source": [
    "### OR using lambda function"
   ]
  },
  {
   "cell_type": "code",
   "execution_count": 5,
   "metadata": {},
   "outputs": [
    {
     "data": {
      "text/plain": [
       "{10: 3, 8: 4, 5: 2, 2: 2, 15: 1}"
      ]
     },
     "execution_count": 5,
     "metadata": {},
     "output_type": "execute_result"
    }
   ],
   "source": [
    "lst = (10, 8, 5, 2, 10, 15, 10, 8, 5, 8, 8, 2)\n",
    "dict(map(lambda el: (el, list(lst).count(el)), lst))"
   ]
  }
 ],
 "metadata": {
  "kernelspec": {
   "display_name": "Python 3.9 (tensorflow)",
   "language": "python",
   "name": "tensorflow"
  },
  "language_info": {
   "codemirror_mode": {
    "name": "ipython",
    "version": 3
   },
   "file_extension": ".py",
   "mimetype": "text/x-python",
   "name": "python",
   "nbconvert_exporter": "python",
   "pygments_lexer": "ipython3",
   "version": "3.9.18"
  },
  "orig_nbformat": 4
 },
 "nbformat": 4,
 "nbformat_minor": 2
}
