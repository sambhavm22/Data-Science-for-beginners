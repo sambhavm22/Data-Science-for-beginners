{
 "cells": [
  {
   "cell_type": "markdown",
   "metadata": {},
   "source": [
    "### Q1. Difference of even and odd\n",
    "\n",
    "\n",
    "Write a program to find the difference between the sum of all even elements and the sum of all odd elements from the given array, A.\n",
    "\n",
    "\n",
    "Problem Constraints\n",
    "\n",
    "1 <= len(A) <= 105\n",
    "\n",
    "1 <= A[i] <= 105\n",
    "\n",
    "\n",
    "Input Format\n",
    "\n",
    "The only argument is the array of integers, A.\n",
    "\n",
    "\n",
    "Output Format\n",
    "\n",
    "The difference of the even and odd elements sum in integer format.\n",
    "\n",
    "\n",
    "Example Input\n",
    "\n",
    "Input 1:\n",
    "\n",
    "1\n",
    "\n",
    "56 63 87 24 32 13 15 19 44 52\n",
    "\n",
    "Input 2:\n",
    "\n",
    "1\n",
    "\n",
    "2 8 4 6\n",
    "\n",
    "\n",
    "Example Output\n",
    "\n",
    "Output 1:\n",
    "\n",
    "11\n",
    "\n",
    "Output 2:\n",
    "\n",
    "20\n",
    "\n",
    "\n",
    "Example Explanation\n",
    "\n",
    "Explanation 1:\n",
    "\n",
    "The sum of even elements is: 56 + 24 + 32 + 44 + 52 = 208. \n",
    "\n",
    "The sum of odd elements is: 63 + 87 + 13 + 15 + 19 = 197. \n",
    "\n",
    "Difference between even elements and odd elements sum is 208 - 197 = 11.\n",
    "\n",
    "Explanation 2:\n",
    "\n",
    "The sum of even elements is: 2 + 8 + 4 + 6 = 20. \n",
    "\n",
    "There is no odd elements. \n",
    "\n",
    "Difference between even elements and odd elements sum is 20 - 0 = 20.\n"
   ]
  },
  {
   "cell_type": "code",
   "execution_count": 1,
   "metadata": {},
   "outputs": [],
   "source": [
    "def even_odd(A):\n",
    "    diff = 0\n",
    "    # Write your code here\n",
    "    sum_even = 0\n",
    "    sum_odd = 0\n",
    "    for i in A:\n",
    "        if i%2==0:\n",
    "            sum_even = sum_even + i\n",
    "        else:\n",
    "            sum_odd = sum_odd + i\n",
    "    diff = abs(sum_odd-sum_even)\n",
    "    return diff"
   ]
  },
  {
   "cell_type": "code",
   "execution_count": 2,
   "metadata": {},
   "outputs": [
    {
     "data": {
      "text/plain": [
       "5"
      ]
     },
     "execution_count": 2,
     "metadata": {},
     "output_type": "execute_result"
    }
   ],
   "source": [
    "even_odd([1,4,5,3,6,7,4,3])"
   ]
  },
  {
   "cell_type": "markdown",
   "metadata": {},
   "source": [
    "### Q2. Sum the Array\n",
    "\n",
    "Write a program to print sum of elements of the input array A of size N.\n",
    "\n",
    "Note: the size element is removed from the list passed as input to the function main, that is only elements are present. User is supposed to add them up and return the result\n",
    "\n",
    "\n",
    "Problem Constraints\n",
    "\n",
    "1 <= N <= 1000\n",
    "\n",
    "1 <= A <= 1000\n",
    "\n",
    "\n",
    "\n",
    "Input Format\n",
    "\n",
    "A list of length N\n",
    "\n",
    "\n",
    "\n",
    "Output Format\n",
    "\n",
    "A single integer containing sum of elements from the input array.\n",
    "\n",
    "\n",
    "\n",
    "Example Input\n",
    "\n",
    "Input 1:\n",
    "\n",
    "5 1 2 3 4 5\n",
    "\n",
    "Input 2:\n",
    "\n",
    "4 10 50 40 80\n",
    "\n",
    "\n",
    "Example Output\n",
    "\n",
    "Output 1:\n",
    "\n",
    "15\n",
    "\n",
    "Output 2:\n",
    "\n",
    "180\n",
    "\n",
    "Sample Explanation:\n",
    "\n",
    "Input-1:\n",
    "\n",
    "A = [5, 1, 2, 3, 4, 5]\n",
    "\n",
    "here the first element is the size of A and the remaining elements are [1, 2, 3, 4, 5] which all sum to 15\n",
    "\n",
    "Input-1:\n",
    "\n",
    "A = [4, 10, 50, 40, 80]\n",
    "\n",
    "here the first element is the size of A and the remaining elements are [10, 50, 40, 80] which all sum to 180\n"
   ]
  },
  {
   "cell_type": "code",
   "execution_count": 3,
   "metadata": {},
   "outputs": [],
   "source": [
    "def calculate_sum(input_list: list) -> int:\n",
    "    # Write your code here, no need to take input\n",
    "    # Input argument: input_list\n",
    "    # Return: sum of elements in input_list\n",
    "    sum_of_number = 0\n",
    "    for i in input_list:\n",
    "        sum_of_number = sum_of_number + i\n",
    "    return sum_of_number"
   ]
  },
  {
   "cell_type": "code",
   "execution_count": 4,
   "metadata": {},
   "outputs": [
    {
     "data": {
      "text/plain": [
       "26"
      ]
     },
     "execution_count": 4,
     "metadata": {},
     "output_type": "execute_result"
    }
   ],
   "source": [
    "calculate_sum([1,4,5,3,6,7])"
   ]
  },
  {
   "cell_type": "markdown",
   "metadata": {},
   "source": [
    "### Q3. Consecutive Duplicate\n",
    "\n",
    "Problem Description\n",
    "\n",
    "Write a function to check if the given array A has consecutive duplicate elements or not. Return True if there are consecutive duplicate elements in the list else return False.\n",
    "\n",
    "Here by consecutive duplicates, we mean duplicates that are present at consecutive indices in the array\n",
    "\n",
    "\n",
    "Problem Constraints\n",
    "\n",
    "1 <= N <= 105\n",
    "\n",
    "1 <= A[i] <= 109\n",
    "\n",
    "\n",
    "Input Format\n",
    "\n",
    "An integer array A as the function argument.\n",
    "\n",
    "\n",
    "Output Format\n",
    "\n",
    "Return True or False\n",
    "\n",
    "\n",
    "Example Input\n",
    "\n",
    "Input 1:\n",
    "\n",
    "1\n",
    "\n",
    "4\n",
    "\n",
    "1 2 3 3\n",
    "\n",
    "Input 2:\n",
    "\n",
    "1\n",
    "\n",
    "2\n",
    "\n",
    "1 2\n",
    "\n",
    "\n",
    "Example Output\n",
    "\n",
    "Output 1:\n",
    "\n",
    "True\n",
    "\n",
    "Output 2:\n",
    "\n",
    "False\n"
   ]
  },
  {
   "cell_type": "code",
   "execution_count": 5,
   "metadata": {},
   "outputs": [],
   "source": [
    "def duplicate(ls: list,n)-> bool:\n",
    "    ans = False\n",
    "    ''' input:ls-List of elements and n-indicates the length of list\n",
    "        output:Return ans as True or False'''\n",
    "    # YOUR CODE GOES HERE\n",
    "    for i in range(n):\n",
    "        if i<(n-1):\n",
    "            if ls[i] == ls[i+1]:\n",
    "                ans = True\n",
    "    \n",
    "    return ans"
   ]
  },
  {
   "cell_type": "code",
   "execution_count": 6,
   "metadata": {},
   "outputs": [
    {
     "data": {
      "text/plain": [
       "True"
      ]
     },
     "execution_count": 6,
     "metadata": {},
     "output_type": "execute_result"
    }
   ],
   "source": [
    "duplicate(ls = [1,2,3,4,5,6,6], n=7)"
   ]
  },
  {
   "cell_type": "code",
   "execution_count": 7,
   "metadata": {},
   "outputs": [
    {
     "data": {
      "text/plain": [
       "False"
      ]
     },
     "execution_count": 7,
     "metadata": {},
     "output_type": "execute_result"
    }
   ],
   "source": [
    "duplicate(ls = [1,2,3,4,5,6,8], n=7)"
   ]
  },
  {
   "cell_type": "markdown",
   "metadata": {},
   "source": [
    "### Q4. First Multiple\n",
    "\n",
    "Write a program for a given integer x and a list ls to return the first multiple of x that occurs in the list, and if there isn’t any multiple of x in the list then return -1.\n",
    "\n",
    "\n",
    "\n",
    "Problem Constraints\n",
    "\n",
    "1 <= len(ls) <= 103,\n",
    "1 <= ls[i] <= 105,\n",
    "1 <= x <= 105\n",
    "\n",
    "\n",
    "Input Format\n",
    "\n",
    "First line of input is number of test cases t. The remaining lines contain the test cases.\n",
    "For each test case \n",
    "First line of input is the integer x.\n",
    "Second line of input contains the elements of ls, separated by spaces.\n",
    "\n",
    "\n",
    "Output Format\n",
    "\n",
    "Return the first multiple of x from the list in integer format, else return -1.\n",
    "\n",
    "\n",
    "Example Input\n",
    "\n",
    "Input 1:\n",
    "\n",
    "ls = [2, 1, 2, 4, 3, 5]\n",
    "\n",
    "x  = 4\n",
    "\n",
    "Input 2:\n",
    "\n",
    "ls = [7, 5, 3, 17]\n",
    "\n",
    "x  = 2\n",
    "\n",
    "\n",
    "Example Output\n",
    "\n",
    "Output 1:\n",
    "\n",
    "4\n",
    "\n",
    "Output 2:\n",
    "\n",
    "-1"
   ]
  },
  {
   "cell_type": "code",
   "execution_count": 8,
   "metadata": {},
   "outputs": [],
   "source": [
    "def first_multiple(ls1: list, x: int):\n",
    "    ans = -1\n",
    "    ''' input:ls-List of elements and x-indicates the integer\n",
    "        output:Return ans from the list that is divisible by x'''\n",
    "\n",
    "    # YOUR CODE GOES HERE\n",
    "    lst = []\n",
    "    lst.append(ls1)\n",
    "    \n",
    "    final_values = []\n",
    "    \n",
    "    for values in ls1:\n",
    "        if values%x==0:\n",
    "            final_values.append(values)\n",
    "            ans = min(final_values)\n",
    "\n",
    "    return ans"
   ]
  },
  {
   "cell_type": "code",
   "execution_count": 9,
   "metadata": {},
   "outputs": [
    {
     "data": {
      "text/plain": [
       "26"
      ]
     },
     "execution_count": 9,
     "metadata": {},
     "output_type": "execute_result"
    }
   ],
   "source": [
    "first_multiple(ls1 = [1,3,4,52,8,26], x = 13)"
   ]
  },
  {
   "cell_type": "code",
   "execution_count": 10,
   "metadata": {},
   "outputs": [
    {
     "data": {
      "text/plain": [
       "-1"
      ]
     },
     "execution_count": 10,
     "metadata": {},
     "output_type": "execute_result"
    }
   ],
   "source": [
    "first_multiple(ls1 = [1,3,51,3,23], x = 2)"
   ]
  },
  {
   "cell_type": "markdown",
   "metadata": {},
   "source": [
    "### Insert that\n",
    "\n",
    "Problem Description\n",
    "\n",
    "Write a program to input N numbers array, a number X and a number Y from user and insert an element Y in it at specified position X. X is based on 1-based indexing\n",
    "\n",
    "Note: When an element is inserted at position X, all elements that were already present at position >= X, gets shifted to one position right, not replaced.\n",
    "\n",
    "Problem Constraints\n",
    "\n",
    "1 <= N <= 100\n",
    "\n",
    "1 <= A[i] <= 1000\n",
    "\n",
    "1 <= X <= N\n",
    "\n",
    "1 <= Y <= 1000\n",
    "\n",
    "Input Format\n",
    "\n",
    "First line is N which represents number of elements.\n",
    "\n",
    "Second line contains N space separated integers.\n",
    "\n",
    "Third line is X position where Y has to be inserted.\n",
    "\n",
    "Fourth line is Y which is the value to be inserted.\n",
    "\n",
    "Output Format\n",
    "\n",
    "N+1 space separated integers of the input array after inserting the element at required position.\n",
    "\n",
    "Example Input\n",
    "\n",
    "Input 1:\n",
    "\n",
    "5\n",
    "\n",
    "2 3 1 4 2\n",
    "\n",
    "3\n",
    "\n",
    "5\n",
    "\n",
    "Example Output\n",
    "\n",
    "Output 1:\n",
    "\n",
    "2 3 5 1 4 2"
   ]
  },
  {
   "cell_type": "code",
   "execution_count": 11,
   "metadata": {},
   "outputs": [
    {
     "name": "stdout",
     "output_type": "stream",
     "text": [
      "3 6 "
     ]
    }
   ],
   "source": [
    "n = int(input(\"Enter the no of elements to insert in a list: \"))\n",
    "lst = input().split()\n",
    "for i in range(len(lst)):\n",
    "    lst[i] = int(lst[i])\n",
    "\n",
    "X = int(input())\n",
    "y = int(input())\n",
    "\n",
    "lst.insert(X-1, y)\n",
    "\n",
    "for j in lst:\n",
    "    print(j, end = \" \")\n"
   ]
  },
  {
   "cell_type": "markdown",
   "metadata": {},
   "source": [
    "### Q3. Right Shift an Array\n",
    "\n",
    "Write a program that reads an integer array A from input and modifies the array by shifting each element to the right by one position and by shifting the last element to the first position. Return the modified array.\n",
    "\n",
    "Problem Constraints\n",
    "\n",
    "1 <= N <= 105 1 <= A[i] <= 109\n",
    "\n",
    "Input Format\n",
    "\n",
    "The first line of the input is the size of the array N. The second line of the input is N integers of the array separated by space.\n",
    "\n",
    "Output Format\n",
    "\n",
    "Print a single line that is the elements of the modified array separated by space.\n",
    "\n",
    "Example Input\n",
    "\n",
    "5\n",
    "\n",
    "1 2 3 4 5\n",
    "\n",
    "Example Output\n",
    "\n",
    "5 1 2 3 4\n"
   ]
  },
  {
   "cell_type": "code",
   "execution_count": 12,
   "metadata": {},
   "outputs": [],
   "source": [
    "def shift():\n",
    "\n",
    "    n = int(input())\n",
    "\n",
    "\n",
    "    d = input().split()\n",
    "    \n",
    "    for i in range(len(d)):\n",
    "        d[i] = int(d[i])\n",
    "\n",
    "    l = d[len(d)-1]\n",
    "    \n",
    "    ans = [0]*len(d)\n",
    "\n",
    "    for i in range(1,len(d)):\n",
    "        ans[i] = d[i-1] \n",
    "\n",
    "    ans[0] = l\n",
    "\n",
    "    return ans\n"
   ]
  },
  {
   "cell_type": "code",
   "execution_count": 14,
   "metadata": {},
   "outputs": [
    {
     "data": {
      "text/plain": [
       "[5, 1, 2, 3, 4]"
      ]
     },
     "execution_count": 14,
     "metadata": {},
     "output_type": "execute_result"
    }
   ],
   "source": [
    "#input = [1,2,3,4,5]\n",
    "shift()"
   ]
  },
  {
   "cell_type": "markdown",
   "metadata": {},
   "source": [
    "### Q4. Print in Reverse\n",
    "\n",
    "Write a program to print the input array A of size N in reverse order where you have to take integer N and further N elements as input from user.\n",
    "\n",
    "\n",
    "Problem Constraints\n",
    "\n",
    "1 <= N <= 1000\n",
    "\n",
    "1 <= A <= 1000\n",
    "Input Format\n",
    "\n",
    "A single line representing N followed by N integers of the array A\n",
    "\n",
    "Output Format\n",
    "\n",
    "A single line containing N space separated integers representing elements of the input array in reverse order.\n",
    "\n",
    "Example Input\n",
    "\n",
    "Input 1:\n",
    "\n",
    "5 1 2 3 4 5\n",
    "\n",
    "Input 2:\n",
    "\n",
    "4 10 50 40 80\n",
    "\n",
    "Example Output\n",
    "\n",
    "Output 1:\n",
    "\n",
    "5 4 3 2 1\n",
    "\n",
    "Output 2:\n",
    "\n",
    "80 40 50 10\n"
   ]
  },
  {
   "cell_type": "code",
   "execution_count": 17,
   "metadata": {},
   "outputs": [
    {
     "name": "stdout",
     "output_type": "stream",
     "text": [
      "11 9 7 5 3 1 "
     ]
    }
   ],
   "source": [
    "#Your Code Goes Here\n",
    "# a = 6 1 3 5 7 9 11\n",
    "a = input()\n",
    "a = a.split()\n",
    "\n",
    "for i in range(len(a)):\n",
    "    a[i] = int(a[i])\n",
    "\n",
    "a = a[1:]\n",
    "a = a[::-1]\n",
    "\n",
    "for i in a:\n",
    "    print(i, end=\" \")\n"
   ]
  },
  {
   "cell_type": "markdown",
   "metadata": {},
   "source": [
    "### Q5. Negative Integers\n",
    "\n",
    "Write a program to print all negative numbers from input array A of size N. Take integer N and N elements of the array as input from user.\n",
    "\n",
    "\n",
    "Problem Constraints\n",
    "\n",
    "1 <= N <= 1000\n",
    "\n",
    "-1000 <= A <= 1000\n",
    "\n",
    "\n",
    "Input Format\n",
    "\n",
    "A single line representing N followed by N integers of the array A\n",
    "\n",
    "\n",
    "\n",
    "Output Format\n",
    "\n",
    "A single line containing elements from the input array which are negative in the same order.\n",
    "\n",
    "\n",
    "Example Input\n",
    "\n",
    "Input 1:\n",
    "\n",
    "5 1 -5 2 -8 -4\n",
    "\n",
    "Input 2:\n",
    "\n",
    "4 -1 0 -8 -1\n",
    "\n",
    "Example Output\n",
    "\n",
    "Output 1:\n",
    "\n",
    "-5 -8 -4\n",
    "\n",
    "Output 2:\n",
    "\n",
    "-1 -8 -1\n"
   ]
  },
  {
   "cell_type": "code",
   "execution_count": 18,
   "metadata": {},
   "outputs": [
    {
     "name": "stdout",
     "output_type": "stream",
     "text": [
      "-5 -8 -4 "
     ]
    }
   ],
   "source": [
    "# a = 5 1 -5 2 -8 -4\n",
    "a = input()\n",
    "a = a.split()\n",
    "for i in range(len(a)):\n",
    "    a[i] = int(a[i])\n",
    "\n",
    "a = a[1:]\n",
    "\n",
    "for i in a:\n",
    "    if i<0:\n",
    "        print(i, end = ' ')"
   ]
  },
  {
   "cell_type": "code",
   "execution_count": 19,
   "metadata": {},
   "outputs": [],
   "source": [
    "\n",
    "def _negative(lst:list):\n",
    "    list_num = []\n",
    "    final_list = []\n",
    "    negative_list = []\n",
    "    list_num.extend(lst)\n",
    "    \n",
    "    if list_num[0] == (len(list_num) - 1):\n",
    "        final_list.extend(list_num[1:])\n",
    "\n",
    "        for i in range(len(final_list)):\n",
    "            if final_list[i]<0:\n",
    "                negative_list.append(final_list[i])\n",
    "    else:\n",
    "        print(\"no of elements != no of indexes\") \n",
    "\n",
    "\n",
    "    return negative_list"
   ]
  },
  {
   "cell_type": "code",
   "execution_count": 20,
   "metadata": {},
   "outputs": [
    {
     "data": {
      "text/plain": [
       "[-5, -1]"
      ]
     },
     "execution_count": 20,
     "metadata": {},
     "output_type": "execute_result"
    }
   ],
   "source": [
    "_negative([5, 2, 4, -5, -1, 6])"
   ]
  },
  {
   "cell_type": "code",
   "execution_count": null,
   "metadata": {},
   "outputs": [],
   "source": []
  }
 ],
 "metadata": {
  "kernelspec": {
   "display_name": "Python 3.9 (tensorflow)",
   "language": "python",
   "name": "tensorflow"
  },
  "language_info": {
   "codemirror_mode": {
    "name": "ipython",
    "version": 3
   },
   "file_extension": ".py",
   "mimetype": "text/x-python",
   "name": "python",
   "nbconvert_exporter": "python",
   "pygments_lexer": "ipython3",
   "version": "3.9.18"
  },
  "orig_nbformat": 4
 },
 "nbformat": 4,
 "nbformat_minor": 2
}
