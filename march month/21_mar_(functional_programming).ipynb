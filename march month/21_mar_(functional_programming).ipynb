{
 "cells": [
  {
   "cell_type": "markdown",
   "metadata": {},
   "source": [
    "# Q1. 2nd lowest\n",
    "\n",
    "Complete the Python function second_lowest() to find the second-lowest grade of students from the given names and grades of each student using lists and lambda function. For the input, the number of students, names, and the grades of each student were given.\n",
    "\n",
    "\n",
    "Input Format\n",
    "\n",
    "An integer N representing the number of students\n",
    "\n",
    "Input of student name and grades for each N student\n",
    "\n",
    "Name of Student\n",
    "\n",
    "Grade of Student\n",
    "\n",
    "\n",
    "Output Format\n",
    "\n",
    "A 2D list containing list of names and grades of students.\n",
    "\n",
    "The 2nd lowest Grade\n",
    "\n",
    "The list of names of student having 2nd lowest grade\n",
    "\n",
    "\n",
    "Example Input\n",
    "\n",
    "5 #Number of students\n",
    "\n",
    "S ROY \n",
    "\n",
    "1 \n",
    "\n",
    "B BOSE\n",
    "\n",
    "3\n",
    "\n",
    "N KAR\n",
    "\n",
    "2\n",
    "\n",
    "C DUTTA\n",
    "\n",
    "1\n",
    "\n",
    "G GHOSH\n",
    "\n",
    "1\n",
    "\n",
    "\n",
    "Example Output\n",
    "\n",
    "[['S ROY', 1.0], ['B BOSE', 3.0], ['N KAR', 2.0], ['C DUTTA', 1.0], ['G GHOSH', 1.0]]\n",
    "\n",
    "2.0\n",
    "\n",
    "N KAR\n",
    "\n",
    "\n",
    "Example Explanation\n",
    "\n",
    "Initially, the input data is printed in the form of 2d-list. Post that, the second-lowest grade is printed, and after that, we print the name(s) of the student who has that grade.\n"
   ]
  },
  {
   "cell_type": "code",
   "execution_count": 1,
   "metadata": {},
   "outputs": [],
   "source": [
    "def second_lowest(students:list, score:list):\n",
    "\n",
    "    student_data = []\n",
    "    second_low_score = None\n",
    "    second_names = []\n",
    "\n",
    "    for i in range(len(students)):\n",
    "        student_data.append([students[i], score[i]])\n",
    "\n",
    "    \n",
    "    second_low_score =  (sorted(set(score)))[1]\n",
    "    \n",
    "\n",
    "    for i in range(len(students)):\n",
    "        if score[i] == second_low_score:\n",
    "            second_names.append(students[i])\n",
    "    \n",
    "    return student_data, second_low_score, second_names"
   ]
  },
  {
   "cell_type": "code",
   "execution_count": 2,
   "metadata": {},
   "outputs": [
    {
     "data": {
      "text/plain": [
       "([['S Roy', 1], ['B Bose', 3], ['N Kar', 2], ['C Dutta', 1], ['G Ghosh', 1]],\n",
       " 2,\n",
       " ['N Kar'])"
      ]
     },
     "execution_count": 2,
     "metadata": {},
     "output_type": "execute_result"
    }
   ],
   "source": [
    "second_lowest(students = ['S Roy', 'B Bose', 'N Kar', 'C Dutta', 'G Ghosh'], score = [1,3,2,1,1])"
   ]
  },
  {
   "cell_type": "markdown",
   "metadata": {},
   "source": [
    "# Q2. words of length\n",
    "\n",
    "Write a Python function that takes a string and a length value as input arguments and returns the words from the string whose length is equal to the provided input length value.\n",
    "\n",
    "\n",
    "Input Format\n",
    "\n",
    "The string\n",
    "\n",
    "Value of the length of word\n",
    "\n",
    "\n",
    "Output Format\n",
    "\n",
    "A list of strings containing the words having length equal to the value provided in input.\n",
    "\n",
    "\n",
    "Example Input\n",
    "\n",
    "\"The world has changed and none of us can go back all we can do is our best and sometimes the best that we can do is to start over\n",
    "\n",
    "5\n",
    "\n",
    "\n",
    "Example Output\n",
    "\n",
    "[‘world’, ‘start’]\n",
    "\n",
    "\n",
    "Example Explanation\n",
    "The string has only two words with length of 5 which are \"world\" and \"start\".\n"
   ]
  },
  {
   "cell_type": "code",
   "execution_count": 3,
   "metadata": {},
   "outputs": [],
   "source": [
    "def length_string(string:str, length:int):\n",
    "    result = []\n",
    "\n",
    "    string = string.split(\" \")\n",
    "    for i in string:\n",
    "        if len(i) == length:\n",
    "            result.append(i)\n",
    "\n",
    "    return result"
   ]
  },
  {
   "cell_type": "code",
   "execution_count": 4,
   "metadata": {},
   "outputs": [
    {
     "data": {
      "text/plain": [
       "['world', 'start']"
      ]
     },
     "execution_count": 4,
     "metadata": {},
     "output_type": "execute_result"
    }
   ],
   "source": [
    "length_string(string = \"The world has changed and none of us can go back all we can do is our best and sometimes the best that we can do is to start over\", \n",
    "            length = 5)"
   ]
  },
  {
   "cell_type": "code",
   "execution_count": 5,
   "metadata": {},
   "outputs": [
    {
     "data": {
      "text/plain": [
       "['The', 'has', 'and', 'can', 'all', 'can', 'our', 'and', 'the', 'can']"
      ]
     },
     "execution_count": 5,
     "metadata": {},
     "output_type": "execute_result"
    }
   ],
   "source": [
    "length_string(string = \"The world has changed and none of us can go back all we can do is our best and sometimes the best that we can do is to start over\", \n",
    "            length = 3)"
   ]
  },
  {
   "cell_type": "markdown",
   "metadata": {},
   "source": [
    "### OR"
   ]
  },
  {
   "cell_type": "code",
   "execution_count": 6,
   "metadata": {},
   "outputs": [],
   "source": [
    "length = 4\n",
    "def length_string(string:str):\n",
    "    \n",
    "    string = string.split(\" \")\n",
    "    print(list(filter(lambda x: x if len(x) == length else 0, string)))\n"
   ]
  },
  {
   "cell_type": "code",
   "execution_count": 7,
   "metadata": {},
   "outputs": [
    {
     "name": "stdout",
     "output_type": "stream",
     "text": [
      "['none', 'back', 'best', 'best', 'that', 'over']\n"
     ]
    }
   ],
   "source": [
    "length_string(string=\"The world has changed and none of us can go back all we can do is our best and sometimes the best that we can do is to start over\")"
   ]
  }
 ],
 "metadata": {
  "kernelspec": {
   "display_name": "coffeeprogrammer",
   "language": "python",
   "name": "python3"
  },
  "language_info": {
   "codemirror_mode": {
    "name": "ipython",
    "version": 3
   },
   "file_extension": ".py",
   "mimetype": "text/x-python",
   "name": "python",
   "nbconvert_exporter": "python",
   "pygments_lexer": "ipython3",
   "version": "3.10.6"
  },
  "orig_nbformat": 4
 },
 "nbformat": 4,
 "nbformat_minor": 2
}
