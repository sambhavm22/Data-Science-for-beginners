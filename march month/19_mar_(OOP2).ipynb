{
 "cells": [
  {
   "cell_type": "markdown",
   "metadata": {},
   "source": [
    "# Q1. Smaller and larger class\n",
    "\n",
    "\n",
    "Complete the classes Smaller and Larger.\n",
    "\n",
    "Smaller class gets instantiated when the argument of the function (a:string) has a length smaller than 6 otherwise Larger is instantiated. Both the classes have the same two methods, display() printing the type of a (class), and evaluate() printing the number of vowels if the Name is Smaller otherwise it prints the number of consonants.\n",
    "\n",
    "\n",
    "Input Format\n",
    "\n",
    "For each testcase there will be a single line of input which will be a string (it can contain both uppercase and lowercase alphabets).\n",
    "\n",
    "\n",
    "Output Format\n",
    "\n",
    "For each testcase there will be two lines of outputs. First line will write the type of object and second line will print the output of evaluate() according to the object type.\n",
    "\n",
    "The type of Name is Smaller or Larger # Line 1\n",
    "\n",
    "Number vowels or consonants # Line 2\n",
    "\n",
    "\n",
    "Example Input 1\n",
    "\n",
    "\"aman\"\n",
    "\n",
    "\n",
    "Example Output 1\n",
    "\n",
    "The type of Name is Smaller\n",
    "\n",
    "2\n",
    "\n",
    "\n",
    "Example Explanation 1\n",
    "\n",
    "Since the length of \"aman\" is 4 which is smaller than 6, therefore, it will be called with Smaller class and in the second line evaluate() will print the frequency of vowels in the Name.\n",
    "\n",
    "\n",
    "\n",
    "Example Input 2\n",
    "\n",
    "\"rajnandini\"\n",
    "\n",
    "\n",
    "Example Output\n",
    "\n",
    "The type of Name is Larger\n",
    "\n",
    "6\n",
    "\n",
    "\n",
    "Example Explanation\n",
    "\n",
    "Since the length of \"rajnandini\" is 10 which is larger than 6, therefore, it will be called with Larger class and in the second line evaluate() will print the frequency of consonants in the Name.\n",
    "\n"
   ]
  },
  {
   "cell_type": "code",
   "execution_count": 1,
   "metadata": {},
   "outputs": [],
   "source": [
    "\n",
    "    \n",
    "class Smaller:\n",
    "    def __init__(self,a):\n",
    "        self.a=a\n",
    "    \n",
    "    def display(self):\n",
    "        print(\"The type of Name is Smaller\")\n",
    "    \n",
    "    def evaluate(self):\n",
    "        ans=0\n",
    "        # YOUR CODE GOES HERE\n",
    "        for i in self.a:\n",
    "            if i in \"aeiouAEIOU\":\n",
    "                ans = ans+1\n",
    "        print(ans)\n",
    "        \n",
    "class Larger:\n",
    "    def __init__(self,a):\n",
    "        self.a=a\n",
    "    \n",
    "    def display(self):\n",
    "        print(\"The type of Name is Larger\")\n",
    "    \n",
    "    def evaluate(self):\n",
    "        ans=0\n",
    "        \n",
    "        # YOUR CODE GOES HERE\n",
    "        for i in self.a:\n",
    "            if i not in \"aeiouAEIOU\":\n",
    "                ans = ans+1\n",
    "        print(ans)\n",
    "\n",
    "def main(a):\n",
    "    '''\n",
    "    input a is string\n",
    "    '''\n",
    "    if len(a)<6:\n",
    "        obj=Smaller(a)\n",
    "        obj.display()\n",
    "        obj.evaluate()\n",
    "    else:\n",
    "        obj=Larger(a)\n",
    "        obj.display()\n",
    "        obj.evaluate()\n",
    "    "
   ]
  },
  {
   "cell_type": "code",
   "execution_count": 2,
   "metadata": {},
   "outputs": [
    {
     "name": "stdout",
     "output_type": "stream",
     "text": [
      "The type of Name is Smaller\n",
      "2\n"
     ]
    }
   ],
   "source": [
    "main(a='aman')"
   ]
  },
  {
   "cell_type": "code",
   "execution_count": 3,
   "metadata": {},
   "outputs": [
    {
     "name": "stdout",
     "output_type": "stream",
     "text": [
      "The type of Name is Larger\n",
      "5\n"
     ]
    }
   ],
   "source": [
    "main(a='Sambhav')"
   ]
  },
  {
   "cell_type": "code",
   "execution_count": 4,
   "metadata": {},
   "outputs": [
    {
     "name": "stdout",
     "output_type": "stream",
     "text": [
      "The type of Name is Larger\n",
      "6\n"
     ]
    }
   ],
   "source": [
    "main(a='rajnandini')"
   ]
  },
  {
   "cell_type": "markdown",
   "metadata": {},
   "source": [
    "# Q2. Spanoftime class\n",
    "\n",
    "Complete the timeHandle() function by completing the Spanoftime class. Spanoftime class should fulfill the following two requirements:\n",
    "\n",
    "1. Complete the method addTime which should take two Spanoftime objects, add them and return another Spanoftime object with added attributes (Hours and minutes). E.g.- (2 hour and 50 min)+(1 hr and 20 min) is (4 hr and 10 min)\n",
    "\n",
    "2. Complete the method returnMinute which should return total minutes in the Spanoftime objects t1 and t2. E.g.- (1 hr 2 min and 1 hr 2 min) should return 124 minute.\n",
    "\n",
    "timeHandle() has 4 parameters which are hours and minutes for two Spanoftime objects which are instantiated in the function itself.\n",
    "\n",
    "Input Format:\n",
    "\n",
    "There will be four lines of input for each test case. First two lines will have the hours and minutes for t1, similarly the later two lines will have hours and minutes for t2.\n",
    "\n",
    "Output format:\n",
    "\n",
    "For each testcase both the methods returned variables will be used. The output format for addTime will be x hours and y min. The output format for returnMinutes will be=> The total minutes in Spanoftime t1 and t2 are: x*60 + y\n",
    "\n",
    "Sample input:\n",
    "\n",
    "1\n",
    "\n",
    "10\n",
    "\n",
    "0\n",
    "\n",
    "50\n",
    "\n",
    "Sample output:\n",
    "\n",
    "2 hours and 0 min \n",
    "\n",
    "The total minutes in Spanoftime t1 and t2 are: 120\n",
    "\n",
    "Sample's explanation:\n",
    "\n",
    "The added Spanoftime object will have 2 hours and 0 mins. The total number of minutes will be 1*60 + 10 + 0*60 + 50 = 120\n",
    "\n"
   ]
  },
  {
   "cell_type": "code",
   "execution_count": 5,
   "metadata": {},
   "outputs": [],
   "source": [
    "def timeHandle(a,b,c,d):\n",
    "    '''inputs: a,b = hours and mins of t1\n",
    "            c,d = hours and mins of t2\n",
    "        Output: Two lines of output for each pair of t1 and t2. The code for printing outputs is already just make sure to return in the methods.'''\n",
    "    # The code for taking input and printing output is already taken care of.\n",
    "\n",
    "    class Spanoftime:\n",
    "        def __init__(self, h, m):\n",
    "            self.hours = h\n",
    "            self.mins = m\n",
    "\n",
    "        def displayTime(self):\n",
    "            return \"{} hours and {} min\".format(self.hours, self.mins)\n",
    "\n",
    "        @staticmethod\n",
    "        def addTime(t1, t2):\n",
    "            t3 = Spanoftime(0, 0)\n",
    "            total = ((t1.hours + t2.hours) * 60) + (t1.mins + t2.mins)\n",
    "            t3.hours, t3.mins = divmod(total, 60)\n",
    "            return t3\n",
    "\n",
    "        @staticmethod\n",
    "        def returnMinutes(t1, t2):\n",
    "            return (t1.hours * 60) + t1.mins + (t2.hours * 60) + t2.mins\n",
    "        \n",
    "    t1=Spanoftime(a,b)\n",
    "    t2=Spanoftime(c,d)\n",
    "    t3=Spanoftime.addTime(t1,t2)\n",
    "    t3.displayTime()\n",
    "    totalmin=str(Spanoftime.returnMinutes(t1,t2))\n",
    "    return t3.displayTime(),(\"The total minutes in time t1 and t2 are: \" + totalmin)"
   ]
  },
  {
   "cell_type": "code",
   "execution_count": 6,
   "metadata": {},
   "outputs": [
    {
     "data": {
      "text/plain": [
       "('2 hours and 0 min', 'The total minutes in time t1 and t2 are: 120')"
      ]
     },
     "execution_count": 6,
     "metadata": {},
     "output_type": "execute_result"
    }
   ],
   "source": [
    "timeHandle(a = 1,b=10 ,c= 0,d= 50)"
   ]
  },
  {
   "cell_type": "markdown",
   "metadata": {},
   "source": [
    "# Q3. Inheritance using ML\n",
    "\n",
    "You are already given a class Machine_Learning with its constructor and a number of methods. You have to define a class Supervised which will inherit the MachineLearning class with the following data members and methods:\n",
    "\n",
    "Data Members:\n",
    "\n",
    "1. name: string\n",
    "2. category: string\n",
    "\n",
    "Methods:\n",
    "\n",
    "1. Constructor: Initialize the data member and call the parent class constructor\n",
    "2. getname(): Returns the data member name.\n",
    "3. getcategory(): Returns the data member breed.\n",
    "4. type(): Prints 'Supervised Learning Algorithm'.\n",
    "\n",
    "You also have to define a class Unsupervised which will also inherit the MachineLearning class with the same data members and methods as in Supervised, but the type() will have to print Unsupervised Learning Algorithm for this class.\n",
    "\n",
    "Input Format:\n",
    "\n",
    "4 strings each in a new line. First two strings are name and category for Supervised class object and the last two are for Unsupervised class object.\n",
    "Output Format:\n",
    "\n",
    "Name of class is printed for the two instantiated objects.\n",
    "\n",
    "Category of class is printed for the two instantiated objects.\n",
    "\n",
    "type() of class is printed for the two instantiated objects.\n",
    "\n",
    "Sample Input:\n",
    "\n",
    "Logistic Regression\n",
    "\n",
    "Classification Algo\n",
    "\n",
    "k-Means\n",
    "\n",
    "Clustering Algo\n",
    "\n",
    "Sample output:\n",
    "\n",
    "Name: Logistic Regression\n",
    "\n",
    "Category: Classification Algo\n",
    "\n",
    "Supervised Learning Algorithm\n",
    "\n",
    "Name: k-Means\n",
    "\n",
    "Category: Clustering Algo\n",
    "\n",
    "Unsupervised Learning Algorithm\n",
    "\n",
    "Sample's Explanation:\n",
    "\n",
    "For Linear Regression, Classification Algo the type of class is supervised therefore it's printed after its name and category. For k-Means, Clustering Algo the type of class is supervised therefore it's printed after its name and category.\n",
    "\n"
   ]
  },
  {
   "cell_type": "code",
   "execution_count": 7,
   "metadata": {},
   "outputs": [],
   "source": [
    "class MachineLearning:\n",
    "    def __init__(self, name:str, category:str) -> None:\n",
    "        self.name:str = name\n",
    "        self.category:str = category\n",
    "    \n",
    "    def getname(self):\n",
    "        return self.name\n",
    "    \n",
    "    def getcategory(self):\n",
    "        return self.category\n",
    "    \n",
    "    def print(self):\n",
    "        print(\"Name:\", self.name)\n",
    "        print(\"Category:\", self.category)\n",
    "\n",
    "class Supervised(MachineLearning):\n",
    "    def __init__(self, name, category) -> None:\n",
    "        super().__init__(name, category)\n",
    "\n",
    "    def type(self):\n",
    "        print(self.name)\n",
    "        print(self.category)\n",
    "        print('Supervised Learning Algorithm')\n",
    "\n",
    "\n",
    "class Unsupervised(MachineLearning):\n",
    "    def __init__(self, name, category) -> None:\n",
    "        super().__init__(name, category)\n",
    "\n",
    "    def type(self):\n",
    "        print(self.name)\n",
    "        print(self.category)\n",
    "        print('Unsupervised Learning Algorithm')\n",
    "\n",
    "\n",
    "\n",
    "def mlAnalogy(a,b,c,d):\n",
    "    \n",
    "    #creating instance variable of Supervised class\n",
    "    obj1 = Supervised(name=a,category=b)\n",
    "    obj1.type()\n",
    "\n",
    "    #creating instance variable of Unsupervised class\n",
    "    obj2 = Supervised(name=c,category=d)\n",
    "    obj2.type()"
   ]
  },
  {
   "cell_type": "code",
   "execution_count": 8,
   "metadata": {},
   "outputs": [
    {
     "name": "stdout",
     "output_type": "stream",
     "text": [
      "Logistic Regression\n",
      "Classification Algo\n",
      "Supervised Learning Algorithm\n",
      "k-Means\n",
      "Clustering Algo\n",
      "Supervised Learning Algorithm\n"
     ]
    }
   ],
   "source": [
    "mlAnalogy(a='Logistic Regression',\n",
    "        b = 'Classification Algo',\n",
    "        c = 'k-Means',\n",
    "        d = 'Clustering Algo')"
   ]
  }
 ],
 "metadata": {
  "kernelspec": {
   "display_name": "Python 3.9 (tensorflow)",
   "language": "python",
   "name": "tensorflow"
  },
  "language_info": {
   "codemirror_mode": {
    "name": "ipython",
    "version": 3
   },
   "file_extension": ".py",
   "mimetype": "text/x-python",
   "name": "python",
   "nbconvert_exporter": "python",
   "pygments_lexer": "ipython3",
   "version": "3.9.18"
  },
  "orig_nbformat": 4
 },
 "nbformat": 4,
 "nbformat_minor": 2
}
