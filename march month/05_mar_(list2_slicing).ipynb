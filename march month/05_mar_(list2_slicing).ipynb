{
 "cells": [
  {
   "cell_type": "markdown",
   "metadata": {},
   "source": [
    "## Q1. Ceil and Floorz\n",
    "\n",
    "You are given a sorted array of A and an integer B. Return an array of size 2, where the first element is the ceil of B and the second element is the floor of B.\n",
    "\n",
    "Ceil is the smallest number greater than or equal to B and is present in the array A.\n",
    "\n",
    "Floor is the largest number smaller than or equal to B and is present in the array A.\n",
    "\n",
    "\n",
    "Problem Constraints\n",
    "\n",
    "1 <= |A| <= 105\n",
    "-109 <= A[i] <= 109\n",
    "-109 <= B <= 109\n",
    "\n",
    "\n",
    "Input Format\n",
    "\n",
    "The input contains two lines.\n",
    "\n",
    "The first line contains space separated integers. The first value in this line is the number of elements N in the array after which N integers denoting elements of the array follow.\n",
    "\n",
    "The second line contains a single integer.\n",
    "\n",
    "\n",
    "Output Format\n",
    "\n",
    "An integer array C of size 2.\n",
    "\n",
    "\n",
    "Example Input\n",
    "\n",
    "Input 1:\n",
    "\n",
    "-2 4 4 8 9\n",
    "\n",
    "0\n",
    "\n",
    "Input 2:\n",
    "\n",
    "1 3 9 21\n",
    "\n",
    "9\n",
    "\n",
    "\n",
    "Example Output\n",
    "\n",
    "Output 1:\n",
    "\n",
    "4 -2\n",
    "\n",
    "Output 2:\n",
    "\n",
    "9 9\n"
   ]
  },
  {
   "cell_type": "code",
   "execution_count": 1,
   "metadata": {},
   "outputs": [],
   "source": [
    "\n",
    "def solve(A, B):\n",
    "\n",
    "    ceil = max(A)\n",
    "    floor = min(A)\n",
    "\n",
    "    for i in A:\n",
    "\n",
    "        if i==B:\n",
    "            ceil = i\n",
    "            floor = i\n",
    "    \n",
    "        if i>B and i<ceil:\n",
    "            ceil = i\n",
    "        \n",
    "        if i<B and i>floor:\n",
    "            floor = i\n",
    "        \n",
    "\n",
    "    C = [ceil,floor]\n",
    "    return(C)\n",
    "\n",
    "        "
   ]
  },
  {
   "cell_type": "code",
   "execution_count": 2,
   "metadata": {},
   "outputs": [
    {
     "data": {
      "text/plain": [
       "[4, -2]"
      ]
     },
     "execution_count": 2,
     "metadata": {},
     "output_type": "execute_result"
    }
   ],
   "source": [
    "solve(A = [-2, 4, 4, 8, 9], B = 0)"
   ]
  },
  {
   "cell_type": "code",
   "execution_count": 3,
   "metadata": {},
   "outputs": [],
   "source": [
    "def solve1(A, B):\n",
    "    \n",
    "    c=[0,0]\n",
    "    for i in A :\n",
    "        if i <= B :\n",
    "            c[1]=i\n",
    "        if i >= B :\n",
    "            c[0] = i\n",
    "            break\n",
    "    return c\n"
   ]
  },
  {
   "cell_type": "code",
   "execution_count": 4,
   "metadata": {},
   "outputs": [
    {
     "data": {
      "text/plain": [
       "[9, 9]"
      ]
     },
     "execution_count": 4,
     "metadata": {},
     "output_type": "execute_result"
    }
   ],
   "source": [
    "solve1(A = [1, 3, 9, 21], B = 9)"
   ]
  },
  {
   "cell_type": "markdown",
   "metadata": {},
   "source": [
    "## Q2. Add the matrices\n",
    "\n",
    "You are given two matrices A & B of same size, you have to return another matrix which is the sum of A and B.\n",
    "Note: Matrices are of same size means the number of rows and number of columns of both matrices are equal.\n",
    "\n",
    "The Following will give you an idea of matrix addition:\n",
    "\n",
    "\n",
    "\n",
    "Problem Constraints\n",
    "\n",
    "1 <= A.size(), B.size() <= 1000 1 <= A[i].size(), B[i].size() <= 1000 1 <= A[i][j], B[i][j] <= 1000\n",
    "\n",
    "Input Format\n",
    "\n",
    "The first argument is the 2D integer array A The second argument is the 2D integer array B\n",
    "\n",
    "Output Format\n",
    "\n",
    "You have to return a vector of vector of integers after doing required operations.\n",
    "\n",
    "Example Input\n",
    "\n",
    "Input 1:\n",
    "\n",
    "A = [[1, 2, 3],   \n",
    "     [4, 5, 6],   \n",
    "     [7, 8, 9]]  \n",
    "\n",
    "B = [[9, 8, 7],   \n",
    "     [6, 5, 4],   \n",
    "     [3, 2, 1]]\n",
    " \n",
    "Input 2:\n",
    "\n",
    "A = [[1, 2, 3],   \n",
    "     [4, 1, 2],   \n",
    "     [7, 8, 9]]  \n",
    "\n",
    "B = [[9, 9, 7],   \n",
    "     [1, 2, 4],   \n",
    "     [4, 6, 3]]\n",
    " \n",
    "Example Output\n",
    "\n",
    "Output 1:\n",
    "\n",
    "[[10, 10, 10],   \n",
    " [10, 10, 10],   \n",
    " [10, 10, 10]]\n",
    "\n",
    "Output 2:\n",
    "\n",
    "[[10, 11, 10],   \n",
    " [5,   3,  6],   \n",
    " [11, 14, 12]]\n"
   ]
  },
  {
   "cell_type": "code",
   "execution_count": 5,
   "metadata": {},
   "outputs": [],
   "source": [
    "def solve2(A, B):\n",
    "    row = len(A)\n",
    "    col = len(A[0])\n",
    "    addition_array = []\n",
    "    for i in range(row):\n",
    "        rows = []\n",
    "        for j in range(col):\n",
    "            rows.append(A[i][j]+B[i][j])\n",
    "        addition_array.append(rows)\n",
    "    return addition_array"
   ]
  },
  {
   "cell_type": "code",
   "execution_count": 6,
   "metadata": {},
   "outputs": [
    {
     "data": {
      "text/plain": [
       "[[10, 11, 10], [5, 3, 6], [11, 14, 12]]"
      ]
     },
     "execution_count": 6,
     "metadata": {},
     "output_type": "execute_result"
    }
   ],
   "source": [
    "solve2(A= [[1, 2, 3], [4, 1, 2], [7, 8, 9]],  B = [[9, 9, 7], [1, 2, 4], [4, 6, 3]])"
   ]
  },
  {
   "cell_type": "markdown",
   "metadata": {},
   "source": [
    "## Q3.  Largest in each Row of 2D Array\n",
    "\n",
    "Given a 2D array A of N rows and M columns. Find value of largest element in each row.\n",
    "\n",
    "\n",
    "Problem Constraints\n",
    "1 <= N, M <= 1000\n",
    "1 <= Ai <= 109\n",
    "\n",
    "\n",
    "Input Format\n",
    "\n",
    "The first argument A is a 2D array of integers\n",
    "\n",
    "\n",
    "Output Format\n",
    "\n",
    "Return an array of length N, in which every index i contains the maximun value of the ith row in the 2D matrix.\n",
    "\n",
    "\n",
    "Example Input\n",
    "\n",
    "Input 1:\n",
    "\n",
    "A = [[1, 2], [1, 3]]\n",
    "\n",
    "Input 2:\n",
    "\n",
    "A = [[1, 2, 3]]\n",
    "\n",
    "\n",
    "Example Output\n",
    "\n",
    "Output 1:\n",
    "\n",
    " [2, 3]\n",
    "\n",
    "Output 2:\n",
    "\n",
    " [3]\n"
   ]
  },
  {
   "cell_type": "code",
   "execution_count": 7,
   "metadata": {},
   "outputs": [],
   "source": [
    "def solve3(A):\n",
    "    row_count = len(A)\n",
    "    col_count = len(A[0])\n",
    "    ans = []*row_count\n",
    "\n",
    "    for i in range(row_count):\n",
    "        max_element = A[i][0]\n",
    "        for j in range(col_count):\n",
    "            if A[i][j]>max_element:\n",
    "                max_element = A[i][j]\n",
    "        ans.append(max_element)\n",
    "    return ans\n"
   ]
  },
  {
   "cell_type": "code",
   "execution_count": 8,
   "metadata": {},
   "outputs": [
    {
     "data": {
      "text/plain": [
       "[2, 3]"
      ]
     },
     "execution_count": 8,
     "metadata": {},
     "output_type": "execute_result"
    }
   ],
   "source": [
    "solve3(A = [[1, 2], [1, 3]])"
   ]
  },
  {
   "cell_type": "code",
   "execution_count": 9,
   "metadata": {},
   "outputs": [],
   "source": [
    "def solve11(A):\n",
    "    final_array=[]\n",
    "    for i in A:\n",
    "        final_array.append(max(i))\n",
    "    return final_array\n"
   ]
  },
  {
   "cell_type": "code",
   "execution_count": 10,
   "metadata": {},
   "outputs": [
    {
     "data": {
      "text/plain": [
       "[3]"
      ]
     },
     "execution_count": 10,
     "metadata": {},
     "output_type": "execute_result"
    }
   ],
   "source": [
    "solve11(A = [[1, 2, 3]])"
   ]
  },
  {
   "cell_type": "markdown",
   "metadata": {},
   "source": [
    "## Q4. Inverse of the Array\n",
    "\n",
    "You are given an integer array A. Now your task is to find the inverse of A. Now, the inverse of the array is A will be an array in which we change the positions of the values as their indices and indices as values.\n",
    "\n",
    "So, array A = [2, 0, 1]\n",
    "\n",
    "- Now 2 is at index 0. So, place 0 at index 2.\n",
    "- 0 is at index 1. So, place 1 at index 0.\n",
    "- 1 is at index 2. So, place 2 at index 1.\n",
    "\n",
    "So, the inverse of A will be [1, 2, 0]\n",
    "\n",
    "\n",
    "Problem Constraints\n",
    "\n",
    "1 <= |A| <= 105\n",
    "\n",
    "0 <= A[i] < |A| (All elements are distinct)\n",
    "\n",
    "\n",
    "Input Format\n",
    "\n",
    "The first and the only argument is an array A.\n",
    "\n",
    "\n",
    "Output Format\n",
    "\n",
    "Return an array which is the inverse of the given array A.\n",
    "\n",
    "\n",
    "Example Input\n",
    "\n",
    "Input 1:\n",
    "\n",
    "A = [2, 0, 1]\n",
    "\n",
    "Input 2:\n",
    "\n",
    "A = [3, 1, 0, 2]\n",
    "\n",
    "\n",
    "Example Output\n",
    "\n",
    "Output 1:\n",
    "\n",
    "[1, 2, 0]\n",
    "\n",
    "Output 2:\n",
    "\n",
    "[2, 1, 3, 0]\n",
    "\n"
   ]
  },
  {
   "cell_type": "code",
   "execution_count": 11,
   "metadata": {},
   "outputs": [],
   "source": [
    "def solve21(A):\n",
    "    N = len(A)\n",
    "    B = [0]*N\n",
    "    for i in range(N):\n",
    "        B[A[i]] = i  #B[A[0]] = 0, #B[3] = 0 \n",
    "    return B"
   ]
  },
  {
   "cell_type": "code",
   "execution_count": 12,
   "metadata": {},
   "outputs": [
    {
     "data": {
      "text/plain": [
       "[2, 1, 3, 0]"
      ]
     },
     "execution_count": 12,
     "metadata": {},
     "output_type": "execute_result"
    }
   ],
   "source": [
    "solve21(A = [3, 1, 0, 2])"
   ]
  },
  {
   "cell_type": "code",
   "execution_count": 13,
   "metadata": {},
   "outputs": [
    {
     "data": {
      "text/plain": [
       "[1, 2, 0]"
      ]
     },
     "execution_count": 13,
     "metadata": {},
     "output_type": "execute_result"
    }
   ],
   "source": [
    "solve21(A = [2, 0, 1])"
   ]
  },
  {
   "cell_type": "markdown",
   "metadata": {},
   "source": [
    "## Q5. . Matrix Multiplication\n",
    "\n",
    "Problem Description\n",
    "\n",
    "You are given two integer matrices A(having M X N size) and B(having N X P). You have to multiply matrix A with B and return the resultant matrix. (i.e. return the matrix AB).\n",
    "\n",
    "Problem Constraints\n",
    "1 <= M, N, P <= 100\n",
    "\n",
    "-100 <= A[i][j], B[i][j] <= 100\n",
    "\n",
    "\n",
    "\n",
    "Input Format\n",
    "\n",
    "The first argument given is the 2-D integer matrix A.\n",
    "\n",
    "The second argument given is the 2-D integer matrix B.\n",
    "\n",
    "\n",
    "\n",
    "Output Format\n",
    "\n",
    "Return a 2D integer matrix denoting AB.\n",
    "\n",
    "\n",
    "\n",
    "Example Input\n",
    "\n",
    "Input 1:\n",
    "\n",
    "A = [[1, 2],\n",
    "     [3, 4]]\n",
    "\n",
    "B = [[5, 6],\n",
    "     [7, 8]]\n",
    "\n",
    "Input 2:\n",
    "\n",
    "A = [[1, 1]]\n",
    "B = [[2],\n",
    "     [3]]\n",
    "\n",
    "\n",
    "Example Output\n",
    "\n",
    "Output 1:\n",
    "\n",
    " [[19, 22],\n",
    "  [43, 50]]\n",
    "  \n",
    "Output 2:\n",
    "\n",
    " [[5]]\n"
   ]
  },
  {
   "cell_type": "code",
   "execution_count": 14,
   "metadata": {},
   "outputs": [],
   "source": [
    "def solve33(A, B):\n",
    "\n",
    "    row = len(B)\n",
    "    col = len(A[0])\n",
    "    final_array = []\n",
    "\n",
    "    if row == col:\n",
    "\n",
    "        for i in range(len(A)): #row\n",
    "            rows = []\n",
    "            for j in range(len(B[0])): #col\n",
    "                sum = 0\n",
    "                for k in range(len(A[0])): \n",
    "                    sum += A[i][k]*B[k][j]\n",
    "                rows.append(sum)\n",
    "\n",
    "            final_array.append(rows)\n",
    "    \n",
    "    return final_array"
   ]
  },
  {
   "cell_type": "code",
   "execution_count": 15,
   "metadata": {},
   "outputs": [
    {
     "data": {
      "text/plain": [
       "[[19, 22], [43, 50]]"
      ]
     },
     "execution_count": 15,
     "metadata": {},
     "output_type": "execute_result"
    }
   ],
   "source": [
    "solve33(A = [[1, 2],[3, 4]], B = [[5, 6], [7, 8]])"
   ]
  },
  {
   "cell_type": "code",
   "execution_count": 16,
   "metadata": {},
   "outputs": [
    {
     "data": {
      "text/plain": [
       "[[5]]"
      ]
     },
     "execution_count": 16,
     "metadata": {},
     "output_type": "execute_result"
    }
   ],
   "source": [
    "solve33(A = [[1, 1]], B = [[2],[3]])"
   ]
  },
  {
   "cell_type": "markdown",
   "metadata": {},
   "source": [
    "## Q6. Matrix Transpose\n",
    "\n",
    "Problem Description\n",
    "\n",
    "Given a 2D integer array A, return the transpose of A.\n",
    "\n",
    "The transpose of a matrix is the matrix flipped over its main diagonal, switching the matrix's row and column indices.\n",
    "\n",
    "\n",
    "Problem Constraints\n",
    "1 <= A.size() <= 1000\n",
    "\n",
    "1 <= A[i].size() <= 1000\n",
    "\n",
    "1 <= A[i][j] <= 1000\n",
    "\n",
    "\n",
    "\n",
    "Input Format\n",
    "\n",
    "First argument is a 2D matrix of integers.\n",
    "\n",
    "\n",
    "\n",
    "Output Format\n",
    "\n",
    "You have to return the Transpose of this 2D matrix.\n",
    "\n",
    "\n",
    "\n",
    "Example Input\n",
    "\n",
    "Input 1:\n",
    "\n",
    "A = [[1, 2, 3],[4, 5, 6],[7, 8, 9]]\n",
    "\n",
    "Input 2:\n",
    "\n",
    "A = [[1, 2],[1, 2],[1, 2]]\n",
    "\n",
    "\n",
    "Example Output\n",
    "\n",
    "Output 1:\n",
    "\n",
    "[[1, 4, 7], [2, 5, 8], [3, 6, 9]]\n",
    "\n",
    "Output 2:\n",
    "\n",
    "[[1, 1, 1], [2, 2, 2]]\n"
   ]
  },
  {
   "cell_type": "code",
   "execution_count": 17,
   "metadata": {},
   "outputs": [],
   "source": [
    "def solve66(A):\n",
    "    row = len(A)\n",
    "    col = len(A[0])\n",
    "    transposed_array = []\n",
    "    for i in range(col):\n",
    "        array_list = []\n",
    "        for j in range(row):\n",
    "            array_list.append(A[j][i])\n",
    "        transposed_array.append(array_list)\n",
    "    return transposed_array"
   ]
  },
  {
   "cell_type": "code",
   "execution_count": 18,
   "metadata": {},
   "outputs": [
    {
     "data": {
      "text/plain": [
       "[[1, 4, 7], [2, 5, 8], [3, 6, 9]]"
      ]
     },
     "execution_count": 18,
     "metadata": {},
     "output_type": "execute_result"
    }
   ],
   "source": [
    "solve66(A = [[1, 2, 3],[4, 5, 6],[7, 8, 9]])"
   ]
  }
 ],
 "metadata": {
  "kernelspec": {
   "display_name": "Python 3.9 (tensorflow)",
   "language": "python",
   "name": "tensorflow"
  },
  "language_info": {
   "codemirror_mode": {
    "name": "ipython",
    "version": 3
   },
   "file_extension": ".py",
   "mimetype": "text/x-python",
   "name": "python",
   "nbconvert_exporter": "python",
   "pygments_lexer": "ipython3",
   "version": "3.9.18"
  },
  "orig_nbformat": 4
 },
 "nbformat": 4,
 "nbformat_minor": 2
}
