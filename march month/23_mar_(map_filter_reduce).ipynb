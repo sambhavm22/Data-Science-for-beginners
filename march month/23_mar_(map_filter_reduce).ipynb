{
 "cells": [
  {
   "cell_type": "markdown",
   "metadata": {},
   "source": [
    "# Q1. Map, reduce and filter\n",
    "\n",
    "In this exercise, complete the function func, which takes integers, names, and numbers as the parameters.\n",
    "\n",
    "a. Use map() to return the list of the squares of each number.\n",
    "\n",
    "b. Use filter() to return the list with only those names that have less than or equal to seven letters.\n",
    "\n",
    "c. Use reduce() to return the product of elements of list numbers.\n",
    "\n",
    "\n",
    "Input Format\n",
    "\n",
    "Space separated values for integers\n",
    "\n",
    "Space separated values for names (string)\n",
    "\n",
    "Space separated values for numbers\n",
    "\n",
    "\n",
    "Output Format\n",
    "\n",
    "List of the squares of each number\n",
    "\n",
    "List with only those names that have less than or equal to seven letters.\n",
    "\n",
    "The product of elements of list numbers.\n",
    "\n",
    "\n",
    "Example Input\n",
    "\n",
    "4 6 3 9 2 8 12\n",
    "\n",
    "scaler interviewbit rishabh student course\n",
    "\n",
    "4 6 9 23 5\n",
    "\n",
    "\n",
    "Example Output\n",
    "\n",
    "[16, 36, 9, 81, 4, 64, 144]\n",
    "\n",
    "['scaler', 'rishabh', 'student', 'course']\n",
    "\n",
    "24840\n",
    "\n",
    "\n",
    "Example Explanation\n",
    "\n",
    "From the first list (integers), every number is squared and the resultant list [16, 36, 9, 81, 4, 64, 144] is returned. From the second list (names), only words with less than or equal to 7 characters are selected and added to the second resultant list, and ['scaler', 'rishabh', 'student', 'course'] is returned. From the last list (numbers), the product of all the numbers (24840) is returned.\n"
   ]
  },
  {
   "cell_type": "code",
   "execution_count": 1,
   "metadata": {},
   "outputs": [],
   "source": [
    "from functools import reduce\n",
    "\n",
    "lst = [4, 6, 3, 9, 2, 8, 12]\n",
    "square_list = list(map(lambda x: x**2, lst))\n",
    "\n",
    "\n",
    "words = ['scaler', 'interviewbit', 'rishabh', 'student', 'courses']\n",
    "words_length = list(filter(lambda x: x if len(x)>=7 else 0, words))\n",
    "\n",
    "\n",
    "product_list = [4, 6, 9, 23, 5]\n",
    "all_num_product = reduce(lambda x,y: x*y, product_list)"
   ]
  },
  {
   "cell_type": "code",
   "execution_count": 2,
   "metadata": {},
   "outputs": [
    {
     "name": "stdout",
     "output_type": "stream",
     "text": [
      "square of all elemnts in the list: [16, 36, 9, 81, 4, 64, 144]\n",
      "words whose length greater than 6 ['interviewbit', 'rishabh', 'student', 'courses']\n",
      "product of all the elemnts in the list: 24840\n"
     ]
    }
   ],
   "source": [
    "print(f\"square of all elemnts in the list: {square_list}\")\n",
    "print(f\"words whose length greater than 6 {words_length}\")\n",
    "print(f\"product of all the elemnts in the list: {all_num_product}\")"
   ]
  },
  {
   "cell_type": "markdown",
   "metadata": {},
   "source": [
    "# Q2. Check for valid email address\n",
    "\n",
    "Given a list of email addresses, return a list containing only valid email addresses in lexicographical order. A Valid email address must follow the following rules:\n",
    "\n",
    "It is of the form user@domain.com, user or domain can't be empty\n",
    "\n",
    "It must have a single @ in the address.\n",
    "\n",
    "The maximum length of the name before @ should be 20.\n",
    "\n",
    "\n",
    "Input Format\n",
    "\n",
    "Space separated strings representing the email addresses\n",
    "\n",
    "\n",
    "Output Format\n",
    "\n",
    "List of valid email addresses sorted in lexicographical order\n",
    "\n",
    "\n",
    "Example Input\n",
    "\n",
    "sara@scaler.com brian-23@scaler.com brute_54@scaler.com\n",
    "\n",
    "\n",
    "Example Output\n",
    "\n",
    "['brian-23@scaler.com', 'brute_54@scaler.com', 'sara@scaler.com']\n",
    "\n",
    "\n",
    "Example Explanation\n",
    "\n",
    "All the elements in the input list are valid as per the conditions and are returned in lexicographical order.\n"
   ]
  },
  {
   "cell_type": "code",
   "execution_count": 3,
   "metadata": {},
   "outputs": [],
   "source": [
    "def verified_email(lst_str:list):\n",
    "\n",
    "    vaild_email = list(filter(lambda x: x if x.count(\"@\")==1 and len(x[0:x.index(\"@\")])<20 and len(x[x.index(\"@\"):])>3 else 0, lst_str))\n",
    "    return vaild_email"
   ]
  },
  {
   "cell_type": "code",
   "execution_count": 4,
   "metadata": {},
   "outputs": [
    {
     "data": {
      "text/plain": [
       "['sam@gmail.com',\n",
       " 'sara@scaler.com',\n",
       " 'brian-23@scaler.com',\n",
       " 'brute_54@scaler.com']"
      ]
     },
     "execution_count": 4,
     "metadata": {},
     "output_type": "execute_result"
    }
   ],
   "source": [
    "verified_email(lst_str=['sam@gmail.com', 'sambhav', 'sara@scaler.com', 'brian-23@scaler.com', 'sam@','brute_54@scaler.com', 'ssafbfhabfbafafbasfbask@gmail.com',])"
   ]
  },
  {
   "cell_type": "code",
   "execution_count": 5,
   "metadata": {},
   "outputs": [],
   "source": [
    "def check(emails):\n",
    "    '''\n",
    "    input:\n",
    "    emails -> list of emails to check\n",
    "\n",
    "    output:\n",
    "    verified_lex -> the verified list of emails, in lexicographical order\n",
    "    '''\n",
    "    verified_lex = None\n",
    "\n",
    "    # Your code starts here\n",
    "    #filtering on the basis of \"@\" count\n",
    "    filter_lex = list(filter(lambda x: 1 == x.count('@'), emails))\n",
    "\n",
    "    #filtering on the basis of user_length requirement by splitting and accessing the user part of split email\n",
    "    user_lex = list(filter(lambda x: 0 < len(x.split('@')[0]) <=20,  filter_lex))\n",
    "\n",
    "    # filtering on the basis of domain length requirement by splitting and accessing the domain part of split email\n",
    "    domain_lex = list(filter(lambda x: len(x.split('@')[1]) > 0, user_lex))\n",
    "\n",
    "    #sorting the filtered emails\n",
    "    verified_lex = sorted(domain_lex)\n",
    "    # Your code ends here\n",
    "    return verified_lex"
   ]
  },
  {
   "cell_type": "code",
   "execution_count": 6,
   "metadata": {},
   "outputs": [
    {
     "data": {
      "text/plain": [
       "['brian-23@scaler.com', 'sam@gmail.com', 'sara@scaler.com']"
      ]
     },
     "execution_count": 6,
     "metadata": {},
     "output_type": "execute_result"
    }
   ],
   "source": [
    "check(emails = ['sam@gmail.com', 'sambhav', 'sara@scaler.com', 'brian-23@scaler.com', 'sam@'])"
   ]
  },
  {
   "cell_type": "code",
   "execution_count": 7,
   "metadata": {},
   "outputs": [],
   "source": [
    "def checks(email):\n",
    "    verified_lex = None\n",
    "    # Your code starts here\n",
    "    verified_lex = sorted(list(n for n in email if n.count('@')== 1 and 0 < len(n.split('@')[0]) <=20 and len(n.split('@')[1]) > 1))\n",
    "    # Your code ends here\n",
    "    return verified_lex"
   ]
  },
  {
   "cell_type": "code",
   "execution_count": 8,
   "metadata": {},
   "outputs": [
    {
     "data": {
      "text/plain": [
       "['sam@gmail.com', 'sara@scaler.com']"
      ]
     },
     "execution_count": 8,
     "metadata": {},
     "output_type": "execute_result"
    }
   ],
   "source": [
    "checks(email = ['sam@gmail.com', 'sambhav', 'sara@scaler.com'])"
   ]
  },
  {
   "cell_type": "markdown",
   "metadata": {},
   "source": [
    "# Q3. Sort Strings\n",
    "\n",
    "Given a list of strings of varying lengths, complete the python function to sort the list of strings based on their lengths and return the sorted list.\n",
    "\n",
    "Note: In case 2 strings have the same length, they are sorted in ascending order of their lexicographic index.\n",
    "\n",
    "Input Format\n",
    "\n",
    "List of Strings\n",
    "\n",
    "\n",
    "Output Format\n",
    "\n",
    "Sorted list of strings based on length\n",
    "\n",
    "\n",
    "Example Input\n",
    "\n",
    "cccc b dd aaa\n",
    "\n",
    "\n",
    "Example Output\n",
    "\n",
    "['b', 'dd', 'aaa', 'cccc']\n"
   ]
  },
  {
   "cell_type": "code",
   "execution_count": 9,
   "metadata": {},
   "outputs": [],
   "source": [
    "def sort_strings(str_list):\n",
    "\t#str_list-> list of strings\n",
    "\t\n",
    "\t# return the sorted list of strings on the basis of criteria mentioned\n",
    "\t\n",
    "\t# code starts here\n",
    "\tres = None\n",
    "\tres = sorted(str_list, key= lambda x: (len(x), x))\n",
    "\t#code ends here\n",
    "\t\n",
    "\treturn res"
   ]
  },
  {
   "cell_type": "code",
   "execution_count": 10,
   "metadata": {},
   "outputs": [
    {
     "data": {
      "text/plain": [
       "['b', 'dd', 'aaa', 'cccc']"
      ]
     },
     "execution_count": 10,
     "metadata": {},
     "output_type": "execute_result"
    }
   ],
   "source": [
    "sort_strings(str_list = ['cccc', 'b', 'dd', 'aaa'])"
   ]
  },
  {
   "cell_type": "markdown",
   "metadata": {},
   "source": [
    "### OR"
   ]
  },
  {
   "cell_type": "code",
   "execution_count": 11,
   "metadata": {},
   "outputs": [],
   "source": [
    "def sort_strings(str_list):\n",
    "# Convert list of strings to list of tuples (string, len(string))\n",
    "    lst_tuples = [(s, len(s)) for s in str_list]\n",
    "    print(lst_tuples)\n",
    "# Sort list of tuples by length in ascending order\n",
    "    lst_tuples.sort(key=lambda x: (x[1], x[0]))\n",
    "    print(lst_tuples)\n",
    "# Extract the sorted list of strings from the tuples\n",
    "    sorted_list = [s for s, _ in lst_tuples]\n",
    "    return sorted_list"
   ]
  },
  {
   "cell_type": "code",
   "execution_count": 12,
   "metadata": {},
   "outputs": [
    {
     "name": "stdout",
     "output_type": "stream",
     "text": [
      "[('ddd', 3), ('abc', 3), ('cbde', 4), ('acb', 3)]\n",
      "[('abc', 3), ('acb', 3), ('ddd', 3), ('cbde', 4)]\n"
     ]
    },
    {
     "data": {
      "text/plain": [
       "['abc', 'acb', 'ddd', 'cbde']"
      ]
     },
     "execution_count": 12,
     "metadata": {},
     "output_type": "execute_result"
    }
   ],
   "source": [
    "sort_strings(str_list = ['ddd', 'abc', 'cbde', 'acb'])    "
   ]
  },
  {
   "cell_type": "markdown",
   "metadata": {},
   "source": [
    "# Q4. Nested Sort\n",
    "\n",
    "You are given a nested list of strings of varying lengths.\n",
    "\n",
    "For each list, sort the string on the basis of the number of times the character ‘a’ appears in the string such that the string having the most number of ‘a’ comes first in the lists.\n",
    "\n",
    "Complete the python function and return the sorted list.\n",
    "\n",
    "Note: If 2 strings has the same number of 'a', keep them in the same order as entered in the list.\n",
    "\n",
    "Input Format\n",
    "\n",
    "Number of lists\n",
    "Space separated strings for each list\n",
    "\n",
    "\n",
    "Output Format\n",
    "\n",
    "Sorted list of strings based on number of ‘a’\n",
    "\n",
    "\n",
    "Example Input\n",
    "\n",
    "3\n",
    "\n",
    "mango banana guava\n",
    "\n",
    "rose sandalwood\n",
    "\n",
    "bccc aaa baac c\n",
    "\n",
    "\n",
    "Example Output\n",
    "\n",
    "[['banana', 'guava', 'mango'], ['sandalwood', 'rose'], ['aaa', 'baac', 'bccc', 'c']]"
   ]
  },
  {
   "cell_type": "code",
   "execution_count": 13,
   "metadata": {},
   "outputs": [],
   "source": [
    "def count_a(lst:list):\n",
    "    result = 0\n",
    "    for i in range(len(lst)):\n",
    "        lst[i] = sorted(lst[i],key=lambda x : x.count('a'),reverse=True)\n",
    "    result = lst\n",
    "    return result "
   ]
  },
  {
   "cell_type": "code",
   "execution_count": 14,
   "metadata": {},
   "outputs": [
    {
     "data": {
      "text/plain": [
       "[['banana', 'guava', 'mango'],\n",
       " ['sandalwood', 'rose'],\n",
       " ['aaa', 'baac', 'bccc', 'c']]"
      ]
     },
     "execution_count": 14,
     "metadata": {},
     "output_type": "execute_result"
    }
   ],
   "source": [
    "count_a(lst = [['mango', 'banana', 'guava'], ['rose', 'sandalwood'], ['bccc', 'aaa', 'baac', 'c']])"
   ]
  },
  {
   "cell_type": "markdown",
   "metadata": {},
   "source": [
    "### OR"
   ]
  },
  {
   "cell_type": "code",
   "execution_count": 15,
   "metadata": {},
   "outputs": [],
   "source": [
    "def sort_strings(str_list):\n",
    "#str_list-> nested list of strings\n",
    "# return the sorted list of strings on the basis of number of times ‘a’ occurs\n",
    "# code starts here\n",
    "    res=list(map(lambda x: (sorted(x,key=(lambda i: i.count('a')),reverse=True)),str_list))\n",
    "\n",
    "    return res"
   ]
  },
  {
   "cell_type": "code",
   "execution_count": 16,
   "metadata": {},
   "outputs": [
    {
     "data": {
      "text/plain": [
       "[['mehtaaa', 'sambhav', 'sam'],\n",
       " ['acsdafdsaa', 'asdaas', 'asdasfcx', 'fdasfccx']]"
      ]
     },
     "execution_count": 16,
     "metadata": {},
     "output_type": "execute_result"
    }
   ],
   "source": [
    "sort_strings(str_list = [['sambhav', 'sam', 'mehtaaa'], ['asdaas', 'asdasfcx', 'fdasfccx', 'acsdafdsaa']])"
   ]
  },
  {
   "cell_type": "code",
   "execution_count": 17,
   "metadata": {},
   "outputs": [],
   "source": [
    "def sort_strings(str_list):\n",
    "    #str_list-> nested list of strings\n",
    "\n",
    "    # return the sorted list of strings on the basis of number of times ‘a’ occurs\n",
    "   \n",
    "    res=[]\n",
    "    for i in str_list:\n",
    "        res.append(sorted(i,key=lambda x:x.count(\"a\"),reverse=True))\n",
    "\n",
    "    return res"
   ]
  },
  {
   "cell_type": "code",
   "execution_count": 18,
   "metadata": {},
   "outputs": [
    {
     "data": {
      "text/plain": [
       "[['mehtaaa', 'sambhaji', 'sahv'],\n",
       " ['asdasafcax', 'acsdafdsaa', 'asdaas', 'fdasfccx']]"
      ]
     },
     "execution_count": 18,
     "metadata": {},
     "output_type": "execute_result"
    }
   ],
   "source": [
    "sort_strings(str_list = [['sahv', 'sambhaji', 'mehtaaa'], ['asdaas', 'asdasafcax', 'fdasfccx', 'acsdafdsaa']])"
   ]
  }
 ],
 "metadata": {
  "kernelspec": {
   "display_name": "coffeeprogrammer",
   "language": "python",
   "name": "python3"
  },
  "language_info": {
   "codemirror_mode": {
    "name": "ipython",
    "version": 3
   },
   "file_extension": ".py",
   "mimetype": "text/x-python",
   "name": "python",
   "nbconvert_exporter": "python",
   "pygments_lexer": "ipython3",
   "version": "3.10.6"
  },
  "orig_nbformat": 4
 },
 "nbformat": 4,
 "nbformat_minor": 2
}
