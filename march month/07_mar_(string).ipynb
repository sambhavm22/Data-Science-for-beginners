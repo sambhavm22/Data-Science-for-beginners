{
 "cells": [
  {
   "cell_type": "markdown",
   "metadata": {},
   "source": [
    "## Q1. Date formatting\n",
    "\n",
    "Given the input date in DD/MM/YYYY format as a string, write a function that returns the converted date in the string formats MM/DD/YYYY and YYYY/MM/DD and return the new date formats.\n",
    "\n",
    "Input Format:\n",
    "\n",
    "First input line will have the number of test cases. There will be a single line of input for each testcase which will consist of date in the string format DD/MM/YYYY. \n",
    "\n",
    "Output Format:\n",
    "\n",
    "Resultant date formats in string formats MM/DD/YYYY and YYYY/MM/DD\n",
    "\n",
    "Sample Input:\n",
    "\n",
    "\"08/12/1998\"\n",
    "\n",
    "Sample Output:\n",
    "\n",
    "12/08/1998"
   ]
  },
  {
   "cell_type": "code",
   "execution_count": 1,
   "metadata": {},
   "outputs": [],
   "source": [
    "def date_format(date):\n",
    "\n",
    "    D = date.split(\"/\")[0] # Day\n",
    "    M = date.split(\"/\")[1] # Month\n",
    "    Y = date.split(\"/\")[2] # Year\n",
    "\n",
    "    date_format1 = \"/\".join([M,D,Y])\n",
    "    date_format2 = \"/\".join([Y,M,D])\n",
    "\n",
    "    return date_format1, date_format2"
   ]
  },
  {
   "cell_type": "code",
   "execution_count": 2,
   "metadata": {},
   "outputs": [
    {
     "data": {
      "text/plain": [
       "('12/08/1998', '1998/12/08')"
      ]
     },
     "execution_count": 2,
     "metadata": {},
     "output_type": "execute_result"
    }
   ],
   "source": [
    "date_format(date = \"08/12/1998\")"
   ]
  },
  {
   "cell_type": "markdown",
   "metadata": {},
   "source": [
    "### OR"
   ]
  },
  {
   "cell_type": "code",
   "execution_count": 3,
   "metadata": {},
   "outputs": [
    {
     "name": "stdout",
     "output_type": "stream",
     "text": [
      "Formatted Date 1: 03/22/2024\n",
      "Formatted Date 2: 2024/03/22\n"
     ]
    }
   ],
   "source": [
    "from datetime import datetime\n",
    "\n",
    "def date_format(date):\n",
    "    \n",
    "    dt_obj = datetime.strptime(date, '%d/%m/%Y')\n",
    "    \n",
    "    \n",
    "    date_format1 = dt_obj.strftime('%m/%d/%Y')\n",
    "    date_format2 = dt_obj.strftime('%Y/%m/%d')\n",
    "    \n",
    "    return date_format1, date_format2\n",
    "\n",
    "# Test the function\n",
    "date = \"22/03/2024\"\n",
    "formatted_date1, formatted_date2 = date_format(date)\n",
    "print(\"Formatted Date 1:\", formatted_date1)\n",
    "print(\"Formatted Date 2:\", formatted_date2)\n"
   ]
  },
  {
   "cell_type": "markdown",
   "metadata": {},
   "source": [
    "## Q2. Replace Character\n",
    "\n",
    "You are given a character string A and two integer ASCII codes B and C.\n",
    "\n",
    "You have to find and replace all the occurrences of the character having ASCII code equal to B with character having ASCII code equal to C and return the resultant string.\n",
    "\n",
    "Input Format\n",
    "\n",
    "First argument is a character string A.\n",
    "\n",
    "Second argument is an integer B.\n",
    "\n",
    "Third argument is an integer C.\n",
    "\n",
    "\n",
    "\n",
    "Output Format\n",
    "\n",
    "Return the resultant string after replacing the character(s).\n",
    "\n",
    "Example Input\n",
    "\n",
    "Input 1:\n",
    "\n",
    " A = \"aabbccbb\"\n",
    "\n",
    " B = 98 \n",
    " \n",
    " C = 100\n",
    "\n",
    "Input 2:\n",
    "\n",
    " A = \"abc\"\n",
    "\n",
    " B = 100\n",
    "\n",
    " C = 97\n",
    "\n",
    "\n",
    "Example Output\n",
    "\n",
    "Output 1:\n",
    "\n",
    "\"aaddccdd \"\n",
    "\n",
    "Output 2:\n",
    "\n",
    " abc \n"
   ]
  },
  {
   "cell_type": "code",
   "execution_count": 4,
   "metadata": {},
   "outputs": [],
   "source": [
    "def solve(A, B, C):\n",
    "        return A.replace(chr(B),chr(C))"
   ]
  },
  {
   "cell_type": "code",
   "execution_count": 5,
   "metadata": {},
   "outputs": [
    {
     "data": {
      "text/plain": [
       "'aaddccdd'"
      ]
     },
     "execution_count": 5,
     "metadata": {},
     "output_type": "execute_result"
    }
   ],
   "source": [
    "solve( A = \"aabbccbb\", B = 98, C = 100)"
   ]
  },
  {
   "cell_type": "code",
   "execution_count": 6,
   "metadata": {},
   "outputs": [],
   "source": [
    "def solve1(A, B, C):\n",
    "    res = ''\n",
    "    for i in range(len(A)):\n",
    "        if A[i] == chr(B):\n",
    "            res += chr(C)\n",
    "        else:\n",
    "            res += A[i]\n",
    "    return res"
   ]
  },
  {
   "cell_type": "code",
   "execution_count": 7,
   "metadata": {},
   "outputs": [
    {
     "data": {
      "text/plain": [
       "'abc'"
      ]
     },
     "execution_count": 7,
     "metadata": {},
     "output_type": "execute_result"
    }
   ],
   "source": [
    "solve(A = \"abc\", B = 100, C = 97)"
   ]
  },
  {
   "cell_type": "markdown",
   "metadata": {},
   "source": [
    "## Q3. Reverse the word - II\n",
    "\n",
    "You are given lowercase string (A) and you have to return after reversing that.\n",
    "\n",
    "\n",
    "Problem Constraints\n",
    "\n",
    "1 <= S.size() <= 1000\n",
    "\n",
    "\n",
    "Input Format\n",
    "\n",
    "First and only argument containing a lowercase string S.\n",
    "\n",
    "\n",
    "\n",
    "Output Format\n",
    "\n",
    "You have to return string which is reverse form of input string.\n",
    "\n",
    "\n",
    "\n",
    "Example Input\n",
    "\n",
    "Input 1:\n",
    "\n",
    "interviewbit\n",
    "\n",
    "Input 2:\n",
    "\n",
    "scaler\n",
    "\n",
    "\n",
    "Example Output\n",
    "\n",
    "Output 1:\n",
    "\n",
    "tibweivretni\n",
    "\n",
    "Output 2:\n",
    "\n",
    "relacs\n"
   ]
  },
  {
   "cell_type": "code",
   "execution_count": 8,
   "metadata": {},
   "outputs": [],
   "source": [
    "def solve12(A):\n",
    "    A = A.lower()\n",
    "    A = A[::-1]\n",
    "    return A"
   ]
  },
  {
   "cell_type": "code",
   "execution_count": 9,
   "metadata": {},
   "outputs": [
    {
     "data": {
      "text/plain": [
       "'tibweivretni'"
      ]
     },
     "execution_count": 9,
     "metadata": {},
     "output_type": "execute_result"
    }
   ],
   "source": [
    "solve12(A='interviewbit')"
   ]
  },
  {
   "cell_type": "markdown",
   "metadata": {},
   "source": [
    "## Q4. Vowels vs Consonants \n",
    "\n",
    "You are given lowercase string (A) and you have to tell the count of vowels and consonants in it.\n",
    "\n",
    "\n",
    "\n",
    "Problem Constraints\n",
    "1 <= A.size() <= 1000\n",
    "\n",
    "\n",
    "\n",
    "Input Format\n",
    "\n",
    "First and only argument containing a lowercase string A.\n",
    "\n",
    "\n",
    "\n",
    "Output Format\n",
    "\n",
    "You have to return an array of two elements representing count of vowels and consonants in the input string respectively.\n",
    "\n",
    "\n",
    "\n",
    "Example Input\n",
    "\n",
    "Input 1:\n",
    "\n",
    "interviewbit\n",
    "\n",
    "Input 2:\n",
    "\n",
    "scaler\n",
    "\n",
    "\n",
    "Example Output\n",
    "\n",
    "Output 1:\n",
    "\n",
    "[5 7]\n",
    "\n",
    "Output 2:\n",
    "\n",
    "[2 4]"
   ]
  },
  {
   "cell_type": "code",
   "execution_count": 10,
   "metadata": {},
   "outputs": [],
   "source": [
    "def solve99(A):\n",
    "\n",
    "    A = A.lower()\n",
    "    vowels=0\n",
    "    consonants=0\n",
    "    for i in A:\n",
    "        if i in 'aeiou':\n",
    "            vowels+=1\n",
    "        else:\n",
    "            consonants+=1\n",
    "    return [vowels, consonants]"
   ]
  },
  {
   "cell_type": "code",
   "execution_count": 11,
   "metadata": {},
   "outputs": [
    {
     "data": {
      "text/plain": [
       "[5, 7]"
      ]
     },
     "execution_count": 11,
     "metadata": {},
     "output_type": "execute_result"
    }
   ],
   "source": [
    "solve99(A = \"interviewbit\")"
   ]
  }
 ],
 "metadata": {
  "kernelspec": {
   "display_name": "Python 3.9 (tensorflow)",
   "language": "python",
   "name": "tensorflow"
  },
  "language_info": {
   "codemirror_mode": {
    "name": "ipython",
    "version": 3
   },
   "file_extension": ".py",
   "mimetype": "text/x-python",
   "name": "python",
   "nbconvert_exporter": "python",
   "pygments_lexer": "ipython3",
   "version": "3.9.18"
  },
  "orig_nbformat": 4
 },
 "nbformat": 4,
 "nbformat_minor": 2
}
