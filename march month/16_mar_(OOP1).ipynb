{
 "cells": [
  {
   "cell_type": "markdown",
   "metadata": {},
   "source": [
    "# Q1. Compute GPA\n",
    "\n",
    "\n",
    "Create a class Student and initialize it with the following class variables:\n",
    "\n",
    "\n",
    "marks in subject 1\n",
    "\n",
    "credit of subject 1\n",
    "\n",
    "marks in subject 2\n",
    "\n",
    "credit of subject 2\n",
    "\n",
    "Create a function gradepointaverage() for the Student class which computes the GPA rounded to two decimals, based on the following criteria of points in a subject :\n",
    "\n",
    "1. If marks>=90:10 points\n",
    "\n",
    "2. If 90>marks>=75: 9 points\n",
    "\n",
    "3. If 75>marks>=60: 8 points\n",
    "\n",
    "4. If 60>marks>=45: 7 points\n",
    "\n",
    "5. If marks<45: 0 points\n",
    "\n",
    "\n",
    "\n",
    "GPA =  \n",
    "\n",
    "(pointsinsubject1 * creditofsubject1 + pointsinsubject2 * creditofsubject2)/(creditofsubject1+creditofsubject2)\n",
    "​\n",
    " \n",
    "\n",
    "The points in a subject should be calculated according to the criteria mentioned in the question. Also, implement a special zero case to handle when credits of both subjects are 0, return \"-1.0\".\n",
    "\n",
    "Input Format\n",
    "\n",
    "Class Student takes input in the form (marks1,marks2,credits1,credits2)\n",
    "\n",
    "\n",
    "Output Format\n",
    "\n",
    "GPA value\n",
    "\n",
    "\n",
    "Example Input\n",
    "\n",
    "(85, 76, 3, 4)\n",
    "\n",
    "\n",
    "Example Output\n",
    "\n",
    "9.0\n",
    "\n",
    "\n",
    "Note: The Math.round() method in Java is used to round a floating-point or double-precision number to the nearest integer value. It performs standard rounding, where values with a fractional part less than 0.5 are rounded down, and values with a fractional part greater than or equal to 0.5 are rounded up.\n",
    "\n",
    "Math.round(65.752) -> 66\n",
    "\n",
    "Math.round(65.467) -> 65\n",
    "\n",
    "Can you use this to return the output in required format from the gradepointaverage() function?"
   ]
  },
  {
   "cell_type": "code",
   "execution_count": 1,
   "metadata": {},
   "outputs": [],
   "source": [
    "class Student:\n",
    "    def __init__(self, sub1, sub2, credit1, credit2):\n",
    "        self.sub1 = sub1\n",
    "        self.sub2 = sub2\n",
    "        self.credit1 = credit1 \n",
    "        self.credit2 = credit2\n",
    "\n",
    "    def mark_of_student(self, mark):\n",
    "        if mark>=90:\n",
    "            return 10\n",
    "        elif mark>=75 and mark<90:\n",
    "            return 9\n",
    "        elif mark>=60 and mark<75:\n",
    "            return 8\n",
    "        elif mark>=45 and mark<60:\n",
    "            return 7\n",
    "        else:\n",
    "            return 0\n",
    "\n",
    "    def grade_point_average(self):\n",
    "\n",
    "        gpa=0\n",
    "        \n",
    "        #YOUR CODE GOES HERE\n",
    "        if self.credit1 == 0 and self.credit2 == 0:\n",
    "            return -1.0 \n",
    "        else:\n",
    "            #calling the mark_of_student function \n",
    "            point_subject1 = self.mark_of_student(mark=self.sub1)\n",
    "            point_subject2 = self.mark_of_student(mark=self.sub2)\n",
    "\n",
    "            gpa = (point_subject1*self.credit1+point_subject2*self.credit2)/(self.credit2+self.credit1)\n",
    "        return round(gpa,2)"
   ]
  },
  {
   "cell_type": "code",
   "execution_count": 2,
   "metadata": {},
   "outputs": [
    {
     "data": {
      "text/plain": [
       "9.0"
      ]
     },
     "execution_count": 2,
     "metadata": {},
     "output_type": "execute_result"
    }
   ],
   "source": [
    "obj = Student(sub1=85, sub2=76, credit1=3, credit2=4)\n",
    "obj.grade_point_average()"
   ]
  },
  {
   "cell_type": "code",
   "execution_count": 3,
   "metadata": {},
   "outputs": [
    {
     "data": {
      "text/plain": [
       "7.86"
      ]
     },
     "execution_count": 3,
     "metadata": {},
     "output_type": "execute_result"
    }
   ],
   "source": [
    "obj = Student(sub1=75, sub2=57, credit1=3, credit2=4)\n",
    "obj.grade_point_average()"
   ]
  },
  {
   "cell_type": "markdown",
   "metadata": {},
   "source": [
    "# Q2. Total electricity bill\n",
    "\n",
    "Create a class Bill and initialize it with the details: previous and current meter readings. Create a function total_bill() inside the Bill class which returns the total bill based on the following criteria:\n",
    "\n",
    "1. For the first 100 units consumed: 3.5 rs/unit\n",
    "\n",
    "2. For the next 100 units consumed: 5 rs/unit\n",
    "\n",
    "3. For remaining units consumed: 8 rs/unit\n",
    "\n",
    "4. Meter Charges: 150 rs (It's included only once but is mandatory)\n",
    "\n",
    "Example input:\n",
    "\n",
    "200 650\n",
    "\n",
    "Example output:\n",
    "\n",
    "3000.0\n",
    "\n",
    "Example explanation:\n",
    "\n",
    "previous_read= 200\n",
    "\n",
    "current_read= 650\n",
    "\n",
    "Unit_consumed= 650-200 = 450\n",
    "\n",
    "total_bill = 100*3.5 + 100*5 + 250*8 + 150(meter charges)= 3000.0 (output will be float)"
   ]
  },
  {
   "cell_type": "code",
   "execution_count": 4,
   "metadata": {},
   "outputs": [],
   "source": [
    "class bill:\n",
    "    def __init__(self, prev_reading, curr_reading):\n",
    "        self.prev_reading = prev_reading\n",
    "        self.curr_reading = curr_reading\n",
    "    \n",
    "    # Calculate the amount of electricity used in kWh \n",
    "    def total_bill(self):\n",
    "        \n",
    "        unit_consumed = self.curr_reading - self.prev_reading\n",
    "\n",
    "        if unit_consumed>200:\n",
    "            bill = 150+(100*3.5)+(100*5)+((unit_consumed-200)*8)\n",
    "        \n",
    "        elif unit_consumed < 100:\n",
    "            bill = 150+(unit_consumed*3.5)\n",
    "        \n",
    "        else:\n",
    "            bill = 150+(100*3.5)+((unit_consumed-100)*5)\n",
    "        \n",
    "        return bill"
   ]
  },
  {
   "cell_type": "code",
   "execution_count": 5,
   "metadata": {},
   "outputs": [
    {
     "data": {
      "text/plain": [
       "3000.0"
      ]
     },
     "execution_count": 5,
     "metadata": {},
     "output_type": "execute_result"
    }
   ],
   "source": [
    "obj = bill(prev_reading=200, curr_reading=650)\n",
    "obj.total_bill()"
   ]
  },
  {
   "cell_type": "code",
   "execution_count": 6,
   "metadata": {},
   "outputs": [
    {
     "data": {
      "text/plain": [
       "750.0"
      ]
     },
     "execution_count": 6,
     "metadata": {},
     "output_type": "execute_result"
    }
   ],
   "source": [
    "obj = bill(prev_reading=200, curr_reading=350)\n",
    "obj.total_bill()"
   ]
  }
 ],
 "metadata": {
  "kernelspec": {
   "display_name": "coffeeprogrammer",
   "language": "python",
   "name": "python3"
  },
  "language_info": {
   "codemirror_mode": {
    "name": "ipython",
    "version": 3
   },
   "file_extension": ".py",
   "mimetype": "text/x-python",
   "name": "python",
   "nbconvert_exporter": "python",
   "pygments_lexer": "ipython3",
   "version": "3.10.6"
  },
  "orig_nbformat": 4
 },
 "nbformat": 4,
 "nbformat_minor": 2
}
