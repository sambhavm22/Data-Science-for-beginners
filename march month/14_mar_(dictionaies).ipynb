{
 "cells": [
  {
   "cell_type": "markdown",
   "metadata": {},
   "source": [
    "# Q1. Frequency of Characters\n",
    "\n",
    "Given an input string, write a program to count the frequency of each character in the string. Map the characters and their respective frequency into a dictionary and return that dictionary.\n",
    "\n",
    "Note: In the back-end, we are just checking the items in the dictionary, not the order therefore True will be printed if the returned dictionary has the same items as expected otherwise False will be printed.\n",
    "\n",
    "Input Format:\n",
    "\n",
    "The first and the only arguement to the function is a string.\n",
    "\n",
    "Output Format:\n",
    "\n",
    "Returned output must be in a dictionary format. The keys must be the unique characters in the string, and the values should  be the frequency of those characters in the given string.\n",
    "\n",
    "Sample Input:\n",
    "\n",
    "ABC\n",
    "\n",
    "Sample Output:\n",
    "\n",
    "{'A': 1, 'B': 1, 'C': 1}\n",
    "\n",
    "Output Explanation:\n",
    "\n",
    "In the string 'ABC', there are three unique characters: 'A', 'B', and 'C'. \n",
    "\n",
    "They occur once in the string and hence their count values are 1."
   ]
  },
  {
   "cell_type": "code",
   "execution_count": 1,
   "metadata": {},
   "outputs": [],
   "source": [
    "def dict_freq(str1):\n",
    "    '''str1 is a string\n",
    "    Ouput -> A dictionary is expected to be returned'''\n",
    "\n",
    "    # YOUR CODE GOES HERE\n",
    "    dict_ = dict()\n",
    "    for i in str1:\n",
    "        if i in dict_:\n",
    "            dict_[i]+=1\n",
    "        else:\n",
    "            dict_[i] = 1\n",
    "    return dict_"
   ]
  },
  {
   "cell_type": "code",
   "execution_count": 2,
   "metadata": {},
   "outputs": [
    {
     "data": {
      "text/plain": [
       "{'A': 2, 'B': 1, 'C': 1}"
      ]
     },
     "execution_count": 2,
     "metadata": {},
     "output_type": "execute_result"
    }
   ],
   "source": [
    "dict_freq(str1='ABCA')"
   ]
  },
  {
   "cell_type": "markdown",
   "metadata": {},
   "source": [
    "# Q2. Sum of Values\n",
    "\n",
    "Given a dictionary, find the sum of values of every key in the dictionary.\n",
    "\n",
    "Input Format:\n",
    "\n",
    "The input contains two lines.\n",
    "\n",
    "The first line has space-separated string values which are the keys of the dictionary.\n",
    "The second line has space-separated integer numbers which are the values of the dictionary.\n",
    "\n",
    "Output Format:\n",
    "\n",
    "Print the sum of the values of the items as an integer.\n",
    "\n",
    "Sample Input:\n",
    "\n",
    "x y z\n",
    "\n",
    "25 25 50\n",
    "\n",
    "Sample Output:\n",
    "\n",
    "100\n",
    "\n",
    "Output Explanation:\n",
    "\n",
    "The dictionary has three key-value pairs having values 25, 25, and 50. Hence their sum, 25+25+50 = 100 should be printed.\n"
   ]
  },
  {
   "cell_type": "code",
   "execution_count": 3,
   "metadata": {},
   "outputs": [],
   "source": [
    "def returnSum(dict):\n",
    "    sum = 0\n",
    "    # PRINT THE SUM OF VALUES\n",
    "    # YOUR CODE GOES HERE\n",
    "    for i in dict:\n",
    "        sum = sum + dict[i]\n",
    "    print(sum) #don't use return here as the question is asking to print the sum of all the values"
   ]
  },
  {
   "cell_type": "code",
   "execution_count": 4,
   "metadata": {},
   "outputs": [
    {
     "name": "stdout",
     "output_type": "stream",
     "text": [
      "150\n"
     ]
    }
   ],
   "source": [
    "returnSum(dict={'x':25, 'y':50, 'z':75})"
   ]
  }
 ],
 "metadata": {
  "kernelspec": {
   "display_name": "coffeeprogrammer",
   "language": "python",
   "name": "python3"
  },
  "language_info": {
   "codemirror_mode": {
    "name": "ipython",
    "version": 3
   },
   "file_extension": ".py",
   "mimetype": "text/x-python",
   "name": "python",
   "nbconvert_exporter": "python",
   "pygments_lexer": "ipython3",
   "version": "3.10.6"
  },
  "orig_nbformat": 4
 },
 "nbformat": 4,
 "nbformat_minor": 2
}
