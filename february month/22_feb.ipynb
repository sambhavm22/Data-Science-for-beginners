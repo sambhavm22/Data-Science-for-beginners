{
 "cells": [
  {
   "cell_type": "markdown",
   "metadata": {},
   "source": [
    "## Q1.\n",
    "\n",
    "Problem Description\n",
    "\n",
    "You are given 3 integer angles(in degrees) A, B and C of a triangle. You have to tell whether the triangle is valid or not.\n",
    "\n",
    "A triangle is valid if sum of its angles equals to 180.\n",
    "\n",
    "NOTE: You have to take the input of 3 sides of triangle from the user.\n",
    "\n",
    "\n",
    "Problem Constraints\n",
    "\n",
    "1 <= A, B, C <= 180\n",
    "\n",
    "\n",
    "\n",
    "Input Format\n",
    "\n",
    "First line of the input contains an integer A.\n",
    "\n",
    "Second line of the input contains an integer B.\n",
    "\n",
    "Third line of the input contains an integer C.\n",
    "\n",
    "\n",
    "\n",
    "Output Format\n",
    "\n",
    "Print 1 if the triangle having given sides is valid, else print 0.\n",
    "\n",
    "\n",
    "\n",
    "Example Input\n",
    "\n",
    "Input 1:\n",
    "\n",
    " 60,\n",
    " 60,\n",
    " 60\n",
    "\n",
    "Input 2:\n",
    "\n",
    " 30,\n",
    " 40,\n",
    " 50\n",
    "\n",
    "\n",
    "Example Output\n",
    "\n",
    "Output 1:\n",
    "\n",
    " 1 \n",
    " \n",
    "Output 2:\n",
    "\n",
    " 0 \n"
   ]
  },
  {
   "cell_type": "code",
   "execution_count": 2,
   "metadata": {},
   "outputs": [
    {
     "name": "stdout",
     "output_type": "stream",
     "text": [
      "0\n"
     ]
    }
   ],
   "source": [
    "A=int(input())\n",
    "B=int(input())\n",
    "C=int(input())\n",
    "if 1<=A<=180 and 1<=B<=180 and 1<=C<=180:\n",
    "    X=180\n",
    "    if(X==A+B+C):\n",
    "        print(1)\n",
    "    else:\n",
    "        print(0)\n",
    "else:\n",
    "    print(\"Enter value of angles between 1 and 180\")"
   ]
  },
  {
   "cell_type": "markdown",
   "metadata": {},
   "source": [
    "## Q2. Profit Or Loss\n",
    "\n",
    "Problem Description\n",
    "\n",
    "You are given the Cost Price C and Selling Price S of a Product. You have to tell whether there is a Profit or Loss. Also, calculate total profit or loss.\n",
    "\n",
    "NOTE: It is guaranteed that Cost Price and Selling Price are not equal.\n",
    "\n",
    "NOTE: You have to take input of the Cost Price(C) and Selling Price(S) from the user.\n",
    "\n",
    "\n",
    "\n",
    "Problem Constraints\n",
    "\n",
    "1 <= C, S <= 109\n",
    "\n",
    "C ≠ S\n",
    "\n",
    "\n",
    "\n",
    "Input Format\n",
    "\n",
    "First line of the input contains a single integer C.\n",
    "\n",
    "Second line of the input contains a single integer S.\n",
    "\n",
    "\n",
    "\n",
    "Output Format\n",
    "\n",
    "Print two integers in separate lines.\n",
    "\n",
    "First integer denotes whether there is a profit or loss. If there is a profit, print 1, else print -1.\n",
    "\n",
    "Second integer is a non-negative integer denoting the absolute value of total profit or loss.\n",
    "\n",
    "\n",
    "\n",
    "Example Input\n",
    "\n",
    "Input 1:\n",
    "\n",
    " 2,\n",
    " 4\n",
    "\n",
    "Input 2:\n",
    "\n",
    " 4,\n",
    " 1\n",
    "\n",
    "\n",
    "Example Output\n",
    "\n",
    "Output 1:\n",
    "\n",
    " 1,\n",
    " 2\n",
    "\n",
    "Output 2:\n",
    "\n",
    " -1,\n",
    " 3"
   ]
  },
  {
   "cell_type": "code",
   "execution_count": 3,
   "metadata": {},
   "outputs": [
    {
     "name": "stdout",
     "output_type": "stream",
     "text": [
      "1\n",
      "7\n"
     ]
    }
   ],
   "source": [
    "C = int(input())\n",
    "S = int(input())\n",
    "\n",
    "if 1<=C<= 10**9 and 1<=S<= 10**9 and C!=S:\n",
    "    if C < S:\n",
    "        print(1)\n",
    "    else:\n",
    "        print(-1)    \n",
    "\n",
    "    print(abs(S-C))\n",
    "else:\n",
    "    print(\"Enter value between 1 and 10**9\")  "
   ]
  },
  {
   "cell_type": "markdown",
   "metadata": {},
   "source": [
    "## Q3. Max of two\n",
    "\n",
    "Problem Description\n",
    "\n",
    "Write a program to input two numbers(A & B) from user and print the maximum element among A & B.\n",
    "\n",
    "\n",
    "Problem Constraints\n",
    "\n",
    "1 <= A <= 1000000\n",
    "\n",
    "1 <= B <= 1000000\n",
    "\n",
    "\n",
    "\n",
    "Input Format\n",
    "\n",
    "First line is a single integer A.\n",
    "Second line is a single integer B.\n",
    "\n",
    "\n",
    "\n",
    "Output Format\n",
    "\n",
    "One line containing the greater integer A or B.\n",
    "\n",
    "\n",
    "\n",
    "Example Input\n",
    "\n",
    "Input 1:\n",
    "\n",
    "5, \n",
    "6\n",
    "\n",
    "Input 2:\n",
    "\n",
    "1000,\n",
    "10000\n",
    "\n",
    "\n",
    "Example Output\n",
    "\n",
    "Output 1:\n",
    "\n",
    "6\n",
    "\n",
    "Output 2:\n",
    "\n",
    "10000"
   ]
  },
  {
   "cell_type": "code",
   "execution_count": 4,
   "metadata": {},
   "outputs": [
    {
     "name": "stdout",
     "output_type": "stream",
     "text": [
      "45\n"
     ]
    }
   ],
   "source": [
    "A = int(input())\n",
    "B = int(input())\n",
    "\n",
    "if 1 <= A <= 1000000 and 1 <= B <= 1000000:\n",
    "    if A<B:\n",
    "        print(B)\n",
    "    else:\n",
    "        print(A)\n",
    "else:\n",
    "    print(\"Enter value between 1 and 1000000\")      "
   ]
  },
  {
   "cell_type": "markdown",
   "metadata": {},
   "source": [
    "## Q4. Roller Coaster Ride\n",
    "\n",
    "Problem Description\n",
    "\n",
    "Write a program that takes the age of the user as input and tells them if they're old enough to ride a roller coaster. The minimum age to ride the roller coaster in this question is 13.\n",
    "\n",
    "\n",
    "Input Format\n",
    "\n",
    "There is only 1 single line in the input, which is the age of the user.\n",
    "\n",
    "\n",
    "Output Format\n",
    "\n",
    "Print the following if user can ride the roller coaster:\n",
    "You can ride the roller coaster!\n",
    "Print the following if user can't ride the roller coaster:\n",
    "You can't ride the roller coaster.\n",
    "\n",
    "\n",
    "Example Input\n",
    "\n",
    "Input 1:-\n",
    "\n",
    "9\n",
    "\n",
    "Input 2:-\n",
    "\n",
    "13\n",
    "\n",
    "\n",
    "Example Output\n",
    "\n",
    "Output 1:-\n",
    "\n",
    "You can't ride the roller coaster.\n",
    "\n",
    "Output 2:-\n",
    "\n",
    "You can ride the roller coaster!\n"
   ]
  },
  {
   "cell_type": "code",
   "execution_count": 5,
   "metadata": {},
   "outputs": [
    {
     "name": "stdout",
     "output_type": "stream",
     "text": [
      "You can't ride the roller coaster.\n"
     ]
    }
   ],
   "source": [
    "age = int(input())\n",
    "\n",
    "if age >= 13:\n",
    "    print(\"You can ride the roller coaster!\")\n",
    "else:\n",
    "    print(\"You can't ride the roller coaster.\")"
   ]
  },
  {
   "cell_type": "markdown",
   "metadata": {},
   "source": [
    "## Q5 Class Performance 2\n",
    "\n",
    "Problem Description\n",
    "\n",
    "You have been given a dataset for marks of 2 subjects, scored by students of classes ClassA and ClassB. You now want to compare the performances of class A and class B by finding out the average performance of the classes. Write a program to find if class A performed better. Print True is Class A is strictly better else return False.\n",
    "\n",
    "\n",
    "Input Format\n",
    "\n",
    "There are 4 lines in the input.\n",
    "The first and second lines are marks of subjects for Class A.\n",
    "The third and fourth lines are marks of subjects for Class B.\n",
    "\n",
    "\n",
    "Output Format\n",
    "\n",
    "Print True if class A is strictly better else False.\n",
    "\n",
    "\n",
    "Example Input\n",
    "\n",
    "Input 1:-\n",
    "\n",
    "80\n",
    "\n",
    "27\n",
    "\n",
    "54\n",
    "\n",
    "61\n",
    "\n",
    "Input 2:-\n",
    "\n",
    "54\n",
    "\n",
    "61\n",
    "\n",
    "80\n",
    "\n",
    "27\n",
    "\n",
    "\n",
    "Example Output\n",
    "\n",
    "Output 1:-\n",
    "\n",
    "False\n",
    "\n",
    "Output 2:-\n",
    "\n",
    "True"
   ]
  },
  {
   "cell_type": "code",
   "execution_count": 7,
   "metadata": {},
   "outputs": [
    {
     "name": "stdout",
     "output_type": "stream",
     "text": [
      "False\n"
     ]
    }
   ],
   "source": [
    "subA_classA = int(input())\n",
    "subB_classA = int(input())\n",
    "subA_classB = int(input())\n",
    "subB_classB = int(input())\n",
    "\n",
    "if ((subA_classA+subB_classA)/2) > ((subA_classB+subB_classB)/2):\n",
    "    print(True)\n",
    "else:\n",
    "    print(False)\n"
   ]
  },
  {
   "cell_type": "markdown",
   "metadata": {},
   "source": [
    "## Q6. What will be the output of the following code:"
   ]
  },
  {
   "cell_type": "code",
   "execution_count": null,
   "metadata": {},
   "outputs": [],
   "source": [
    "# x = 2\n",
    "# if x==2:\n",
    "#     x = 3\n",
    "# x = 4\n",
    "# else:\n",
    "#     x = 5\n",
    "# print(x)"
   ]
  },
  {
   "cell_type": "markdown",
   "metadata": {},
   "source": [
    "Error"
   ]
  },
  {
   "cell_type": "markdown",
   "metadata": {},
   "source": [
    "## Q7. You have been given the following piece of code. Assume that x has already been declared."
   ]
  },
  {
   "cell_type": "code",
   "execution_count": null,
   "metadata": {},
   "outputs": [],
   "source": [
    "# if x > 2:\n",
    "#     x = x*2\n",
    "# if x > 4:\n",
    "#     x = 0\n",
    "# print(x)"
   ]
  },
  {
   "cell_type": "markdown",
   "metadata": {},
   "source": [
    "For x > 2, output will be equal to 0"
   ]
  }
 ],
 "metadata": {
  "kernelspec": {
   "display_name": "Python 3.9 (tensorflow)",
   "language": "python",
   "name": "tensorflow"
  },
  "language_info": {
   "codemirror_mode": {
    "name": "ipython",
    "version": 3
   },
   "file_extension": ".py",
   "mimetype": "text/x-python",
   "name": "python",
   "nbconvert_exporter": "python",
   "pygments_lexer": "ipython3",
   "version": "3.9.18"
  },
  "orig_nbformat": 4
 },
 "nbformat": 4,
 "nbformat_minor": 2
}
