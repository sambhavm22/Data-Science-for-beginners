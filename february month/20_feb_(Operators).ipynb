{
 "cells": [
  {
   "cell_type": "markdown",
   "metadata": {},
   "source": [
    "## Q1.\n",
    "Given total bills amount and amount of a single bill. Print number of bills.\n",
    "\n",
    "Note : The total amount is equally splitted in all bills. The number of bills should be an integer value.\n",
    "\n",
    "Input Format\n",
    "\n",
    "The first line contains a real number N denoting the total budget.\n",
    "The second line contains an integer M denoting the value of a single bill.\n",
    "Output Format\n",
    "\n",
    "Print in a single line denoting the total number of bills that can fit in the total budget.\n",
    "Problem Constraints\n",
    "\n",
    "1 <= N <= 10000\n",
    "\n",
    "1 <= M <= 100\n",
    "\n",
    "Example Input\n",
    "\n",
    "Input:-\n",
    "\n",
    "126.3\n",
    "\n",
    "5\n",
    "\n",
    "Example Output\n",
    "\n",
    "Output:-\n",
    "\n",
    "25"
   ]
  },
  {
   "cell_type": "code",
   "execution_count": 1,
   "metadata": {},
   "outputs": [
    {
     "ename": "ValueError",
     "evalue": "could not convert string to float: ''",
     "output_type": "error",
     "traceback": [
      "\u001b[0;31m---------------------------------------------------------------------------\u001b[0m",
      "\u001b[0;31mValueError\u001b[0m                                Traceback (most recent call last)",
      "\u001b[1;32m/Users/aakanksha/Data-Science-for-beginners/20_feb.ipynb Cell 2\u001b[0m line \u001b[0;36m1\n\u001b[0;32m----> <a href='vscode-notebook-cell:/Users/aakanksha/Data-Science-for-beginners/20_feb.ipynb#W3sZmlsZQ%3D%3D?line=0'>1</a>\u001b[0m x \u001b[39m=\u001b[39m \u001b[39mfloat\u001b[39;49m(\u001b[39minput\u001b[39;49m())\n\u001b[1;32m      <a href='vscode-notebook-cell:/Users/aakanksha/Data-Science-for-beginners/20_feb.ipynb#W3sZmlsZQ%3D%3D?line=1'>2</a>\u001b[0m y \u001b[39m=\u001b[39m \u001b[39mint\u001b[39m(\u001b[39minput\u001b[39m())\n\u001b[1;32m      <a href='vscode-notebook-cell:/Users/aakanksha/Data-Science-for-beginners/20_feb.ipynb#W3sZmlsZQ%3D%3D?line=3'>4</a>\u001b[0m \u001b[39mprint\u001b[39m(\u001b[39mint\u001b[39m(x\u001b[39m/\u001b[39m\u001b[39m/\u001b[39my))\n",
      "\u001b[0;31mValueError\u001b[0m: could not convert string to float: ''"
     ]
    }
   ],
   "source": [
    "x = float(input())\n",
    "y = int(input())\n",
    "\n",
    "print(int(x//y))"
   ]
  },
  {
   "cell_type": "markdown",
   "metadata": {},
   "source": [
    "# Q2.\n",
    "\n",
    "Problem Description\n",
    "A group of spammers is troubling Varun by calling on his mobile phone repeatedly. After a while, Varun observed a pattern that the mobile number from which the spammers call him is always lesser than his mobile number when compared on the number line. The mobile number of Varun is 1234880990. Given a mobile number as an input print True if the number belongs to the spammers else False.\n",
    "\n",
    "Input Format\n",
    "\n",
    "The input will be a single integer representing a mobile number.\n",
    "\n",
    "Output Format\n",
    "\n",
    "The output would be True if the condition holds else False\n",
    "\n",
    "Sample Input\n",
    "\n",
    "9999999999\n",
    "\n",
    "Sample Output\n",
    "\n",
    "False\n"
   ]
  },
  {
   "cell_type": "code",
   "execution_count": 2,
   "metadata": {},
   "outputs": [
    {
     "ename": "ValueError",
     "evalue": "invalid literal for int() with base 10: ''",
     "output_type": "error",
     "traceback": [
      "\u001b[0;31m---------------------------------------------------------------------------\u001b[0m",
      "\u001b[0;31mValueError\u001b[0m                                Traceback (most recent call last)",
      "\u001b[1;32m/Users/aakanksha/Data-Science-for-beginners/20_feb.ipynb Cell 4\u001b[0m line \u001b[0;36m2\n\u001b[1;32m      <a href='vscode-notebook-cell:/Users/aakanksha/Data-Science-for-beginners/20_feb.ipynb#W5sZmlsZQ%3D%3D?line=0'>1</a>\u001b[0m varun_number \u001b[39m=\u001b[39m \u001b[39m1234880990\u001b[39m\n\u001b[0;32m----> <a href='vscode-notebook-cell:/Users/aakanksha/Data-Science-for-beginners/20_feb.ipynb#W5sZmlsZQ%3D%3D?line=1'>2</a>\u001b[0m spammer_number \u001b[39m=\u001b[39m \u001b[39mint\u001b[39;49m(\u001b[39minput\u001b[39;49m())\n\u001b[1;32m      <a href='vscode-notebook-cell:/Users/aakanksha/Data-Science-for-beginners/20_feb.ipynb#W5sZmlsZQ%3D%3D?line=3'>4</a>\u001b[0m \u001b[39mif\u001b[39;00m varun_number \u001b[39m>\u001b[39m spammer_number:\n\u001b[1;32m      <a href='vscode-notebook-cell:/Users/aakanksha/Data-Science-for-beginners/20_feb.ipynb#W5sZmlsZQ%3D%3D?line=4'>5</a>\u001b[0m     \u001b[39mprint\u001b[39m(\u001b[39m\"\u001b[39m\u001b[39mTrue\u001b[39m\u001b[39m\"\u001b[39m)\n",
      "\u001b[0;31mValueError\u001b[0m: invalid literal for int() with base 10: ''"
     ]
    }
   ],
   "source": [
    "varun_number = 1234880990\n",
    "spammer_number = int(input())\n",
    "\n",
    "if varun_number > spammer_number:\n",
    "    print(\"True\")\n",
    "else:\n",
    "    print(\"False\")"
   ]
  },
  {
   "cell_type": "code",
   "execution_count": 3,
   "metadata": {},
   "outputs": [
    {
     "name": "stdout",
     "output_type": "stream",
     "text": [
      "True\n"
     ]
    }
   ],
   "source": [
    "print(True == 1)"
   ]
  },
  {
   "cell_type": "code",
   "execution_count": 4,
   "metadata": {},
   "outputs": [
    {
     "name": "stdout",
     "output_type": "stream",
     "text": [
      "False\n"
     ]
    }
   ],
   "source": [
    "print(\"1\" == 1)"
   ]
  },
  {
   "cell_type": "code",
   "execution_count": 5,
   "metadata": {},
   "outputs": [
    {
     "name": "stdout",
     "output_type": "stream",
     "text": [
      "5.0\n"
     ]
    }
   ],
   "source": [
    "#whenever we use divide sign then the output will come in float datatype\n",
    "x = 55 / 11\n",
    "print(x) "
   ]
  },
  {
   "cell_type": "markdown",
   "metadata": {},
   "source": [
    "# Q3.\n",
    "\n",
    "Set the value of variable a, b and c such that the following condition evaluates to true:\n",
    "\n",
    "a = -1 # change this\n",
    "\n",
    "b = -1 # change this\n",
    "\n",
    "c = -1 # change this\n",
    "\n",
    "##### DO NOT CHANGE THIS\n",
    "\n",
    "x = a < b + c\n",
    "\n",
    "print(x) # this should be True"
   ]
  },
  {
   "cell_type": "code",
   "execution_count": 6,
   "metadata": {},
   "outputs": [
    {
     "name": "stdout",
     "output_type": "stream",
     "text": [
      "True\n"
     ]
    }
   ],
   "source": [
    "a = 4 # __ change this\n",
    "b = 2 # __ change this\n",
    "c = 3 # __ change this\n",
    "\n",
    "# DO NOT CHANGE THIS\n",
    "x = a < b + c\n",
    "\n",
    "print(x) # this should be True"
   ]
  },
  {
   "cell_type": "code",
   "execution_count": null,
   "metadata": {},
   "outputs": [],
   "source": []
  }
 ],
 "metadata": {
  "kernelspec": {
   "display_name": "Python 3.9 (tensorflow)",
   "language": "python",
   "name": "tensorflow"
  },
  "language_info": {
   "codemirror_mode": {
    "name": "ipython",
    "version": 3
   },
   "file_extension": ".py",
   "mimetype": "text/x-python",
   "name": "python",
   "nbconvert_exporter": "python",
   "pygments_lexer": "ipython3",
   "version": "3.9.18"
  },
  "orig_nbformat": 4
 },
 "nbformat": 4,
 "nbformat_minor": 2
}
