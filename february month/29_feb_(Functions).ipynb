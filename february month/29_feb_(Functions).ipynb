{
 "cells": [
  {
   "cell_type": "markdown",
   "metadata": {},
   "source": [
    "## Q1. Celsius to Fahrenheit\n",
    "\n",
    "Given the temperature of a day in Degrees Celsius, convert this given temperature from Celsius to Fahrenheit. Complete the function to do so. Round the output up to 2 decimal places\n",
    "\n",
    "Note1:\n",
    "\n",
    "Python : Use round(ans,2) to round up ans to two decimals\n",
    "\n",
    "Java : Use Math.round(val*100)/100d to round upto two decimals\n",
    "\n",
    "Note2:\n",
    "\n",
    "You need not take input in this problem, you need to only implement the function provided.\n",
    "\n",
    "Input Format:\n",
    "\n",
    "First and the only line has input in float format representing the temperature.\n",
    "\n",
    "Output Format:\n",
    "\n",
    "Fahrenheit value in float format\n",
    "\n",
    "Sample Input:\n",
    "\n",
    "36.8\n",
    "\n",
    "Sample Output:\n",
    "\n",
    "98.24\n"
   ]
  },
  {
   "cell_type": "code",
   "execution_count": 1,
   "metadata": {},
   "outputs": [],
   "source": [
    "def celsius_farhen(Celsius):\n",
    "    ans = Celsius*(9/5)+32\n",
    "    return round(ans,2)"
   ]
  },
  {
   "cell_type": "code",
   "execution_count": 2,
   "metadata": {},
   "outputs": [
    {
     "data": {
      "text/plain": [
       "54.68"
      ]
     },
     "execution_count": 2,
     "metadata": {},
     "output_type": "execute_result"
    }
   ],
   "source": [
    "celsius_farhen(12.6)"
   ]
  },
  {
   "cell_type": "markdown",
   "metadata": {},
   "source": [
    "## Q2. Road tax\n",
    "\n",
    "Write a program that takes the cost price of a vehicle as an argument and returns the road tax, that the vehicle owner has to pay according to the following criteria:\n",
    "\n",
    "cost price                        Tax \n",
    "\n",
    "> 100000                          20%\n",
    "\n",
    "> 75000 and <= 100000             15%\n",
    "\n",
    "> 50000 and <= 75000              10%\n",
    "\n",
    "<= 50000                          5%\n",
    "\n",
    "Note1: Return the tax up to one decimal place. You can use round(tax,1)\n",
    "\n",
    "Note2: You need not take input in this problem, you need to only implement the function provided.\n",
    "\n",
    "Input Format:\n",
    "\n",
    "The first line indicates the number of test cases. For each testcase there will be a single line of input representing the cost price.\n",
    "\n",
    "Output Format:\n",
    "\n",
    "Return tax in float format.\n",
    "\n",
    "Sample Input 1:\n",
    "\n",
    "1\n",
    "\n",
    "25000\n",
    "\n",
    "Sample Output 2:\n",
    "\n",
    "1250.0\n",
    "\n",
    "Sample Explanation 1\n",
    "\n",
    "The given cost price of vehicle is 25000 which is less than 50,000. \n",
    "\n",
    "Hence the tax applicable is 5%. So if we calculate 5% of 25,000, it evaluates to 1250.0.\n",
    "\n",
    "Sample Input 2:\n",
    "\n",
    "1\n",
    "\n",
    "60000\n",
    "\n",
    "Sample Output 2:\n",
    "\n",
    "6000.0\n",
    "\n",
    "Sample Explanation 2\n",
    "\n",
    "The given cost price of vehicle is 60,000 which is greater than 50,000 but less than 75,000. \n",
    "Hence the tax applicable is 10%. So if we calculate 10% of 60,000, it evaluates to 6000.0.\n"
   ]
  },
  {
   "cell_type": "code",
   "execution_count": 3,
   "metadata": {},
   "outputs": [],
   "source": [
    "def road_tax(price):\n",
    "    if price>100000:\n",
    "        tax = price*(20/100)\n",
    "    elif price > 75000 and price <= 100000:\n",
    "        tax = price*(0.15)\n",
    "    elif price > 50000 and price<= 75000:\n",
    "        tax = price*0.1\n",
    "    else:\n",
    "        tax = price*(0.05)\n",
    "    return round(tax,1)"
   ]
  },
  {
   "cell_type": "code",
   "execution_count": 4,
   "metadata": {},
   "outputs": [
    {
     "data": {
      "text/plain": [
       "13350.6"
      ]
     },
     "execution_count": 4,
     "metadata": {},
     "output_type": "execute_result"
    }
   ],
   "source": [
    "road_tax(89004)"
   ]
  },
  {
   "cell_type": "markdown",
   "metadata": {},
   "source": [
    "## Q3. Print Sum of squares\n",
    "\n",
    "Given an integer n, write a program to return the sum of squares of first n natural numbers in integer format.\n",
    "\n",
    "Note1:\n",
    "\n",
    "The formula for the sum of squares of first n natural numbers is: n(n+1)(2n+1)/6\n",
    "\n",
    "Note2:\n",
    "\n",
    "You need not take input in this problem, only implement the function provided.\n",
    "\n",
    "Problem Constraints:\n",
    "\n",
    "1 <= N <= 100\n",
    "\n",
    "Input Format:\n",
    "\n",
    "The first line indicates the number of test cases.\n",
    "\n",
    "For each testcase there will be a single line of input with an integer representing n for that testcase.\n",
    "\n",
    "Output Format:\n",
    "\n",
    "Sum of squares of n natural numbers in integer format\n",
    "\n",
    "Sample Input:\n",
    "\n",
    "1\n",
    "\n",
    "6\n",
    "Sample Output:\n",
    "\n",
    "91\n"
   ]
  },
  {
   "cell_type": "code",
   "execution_count": 5,
   "metadata": {},
   "outputs": [],
   "source": [
    "def sum_squares(n:int)->int:\n",
    "    ''' input:Given Integer n\n",
    "        output: Return ans as sum of squares in integer format.'''\n",
    "    ans = (n*(n+1)*(2*n+1))/6\n",
    "    \n",
    "    return int(ans)"
   ]
  },
  {
   "cell_type": "code",
   "execution_count": 6,
   "metadata": {},
   "outputs": [
    {
     "data": {
      "text/plain": [
       "140"
      ]
     },
     "execution_count": 6,
     "metadata": {},
     "output_type": "execute_result"
    }
   ],
   "source": [
    "sum_squares(7)"
   ]
  },
  {
   "cell_type": "markdown",
   "metadata": {},
   "source": [
    "## Q4. global or local?\n",
    "\n",
    "What does the following program print?"
   ]
  },
  {
   "cell_type": "code",
   "execution_count": 7,
   "metadata": {},
   "outputs": [
    {
     "name": "stdout",
     "output_type": "stream",
     "text": [
      "global,local,local"
     ]
    }
   ],
   "source": [
    "x = \"global\"\n",
    "def foo():\n",
    "    global x\n",
    "    print(x, end=\",\")\n",
    "    x = \"local\"\n",
    "    print(x, end=\",\")\n",
    "\n",
    "foo()\n",
    "print(x, end=\"\")"
   ]
  },
  {
   "cell_type": "markdown",
   "metadata": {},
   "source": [
    "## Q5. Sequence [1-N] & [N-1]\n",
    "\n",
    "Write a program to print all Natural numbers from 1 to N and from N to 1 inclusive, where N is given as an argument.\n",
    "\n",
    "Note1: First print from 1 to N then in new line print again from N to 1\n",
    "\n",
    "Note2: You need not take input in this problem, you need to only implement the function provided.\n",
    "\n",
    "Note3: There is 1 line gap between two output lines and a space between numbers in same line.\n",
    "\n",
    "Problem Constraints:\n",
    "\n",
    "1 <= N <= 1000\n",
    "\n",
    "Input Format:\n",
    "\n",
    "The first line indicates the number of test cases t\n",
    "\n",
    "The next t lines will have different values of N according to testcases\n",
    "\n",
    "Output Format:\n",
    "\n",
    "For each testcase there will be two lines of output:  \n",
    "\n",
    "The first line is N space-separated integers from 1 to N.\n",
    "\n",
    "The next line is N space-separated integers from N to 1.\n",
    "\n",
    "Sample Input:\n",
    "\n",
    "1\n",
    "\n",
    "5\n",
    "\n",
    "Sample Output:\n",
    "\n",
    "1 2 3 4 5\n",
    "\n",
    "5 4 3 2 1\n"
   ]
  },
  {
   "cell_type": "code",
   "execution_count": 8,
   "metadata": {},
   "outputs": [],
   "source": [
    "def sequence(n):\n",
    "    '''input: n = A single integer for the range where n is inclusive\n",
    "        output: First Print from 1 to N and new line Print from N to 1'''\n",
    "    \n",
    "\n",
    "    for i in range (1, n+1):\n",
    "        if i==n:\n",
    "            print(i, end = \"\")\n",
    "        else:\n",
    "            print(i, end = \" \")\n",
    "    print()\n",
    "    for j in range(n, 0, -1):\n",
    "        if j==1:\n",
    "            print(j, end = \"\")\n",
    "        else:\n",
    "            print(j, end = \" \")"
   ]
  },
  {
   "cell_type": "code",
   "execution_count": 9,
   "metadata": {},
   "outputs": [
    {
     "name": "stdout",
     "output_type": "stream",
     "text": [
      "1 2 3 4 5 6 7\n",
      "7 6 5 4 3 2 1"
     ]
    }
   ],
   "source": [
    "sequence(7)"
   ]
  },
  {
   "cell_type": "markdown",
   "metadata": {},
   "source": [
    "## Q6. Perfect Number\n",
    "\n",
    "Write a function to check whether a given number n as an input to the function is a perfect number or not. If the given integer is a perfect number return 1 else return 0.\n",
    "\n",
    "Note: In number theory, a perfect number is a positive integer that is equal to the sum of its proper positive divisors, that is, the sum of its positive divisors excluding the number itself (also known as its aliquot sum).\n",
    "\n",
    "Input Format:\n",
    "\n",
    "The only argument to the function is an integer n.\n",
    "\n",
    "Output Format:\n",
    "\n",
    "Print out 1 if the number is perfect else 0 in integer format.\n",
    "\n",
    "Sample Input:\n",
    "\n",
    "6\n",
    "\n",
    "Sample Output:\n",
    "\n",
    "1\n",
    "\n",
    "Sample Explanation:\n",
    "\n",
    "Given number is 6. 1, 2, and 3 are its proper positive divisors, and 1 + 2 + 3 = 6. Equivalently, the number 6 is equal to half the sum of all its positive divisors: ( 1 + 2 + 3 + 6 ) / 2 = 6. Hence 6 is a perfect number.\n"
   ]
  },
  {
   "cell_type": "code",
   "execution_count": 15,
   "metadata": {},
   "outputs": [],
   "source": [
    "def perfect_number(n):\n",
    "    '''input: n = An Integer value \n",
    "    output: return 1 if it is perfect number else 0'''\n",
    "\n",
    "    sum = 0\n",
    "    for i in range(1,n):\n",
    "        if n%i == 0:\n",
    "            sum = sum+i\n",
    "    if sum == n:\n",
    "        print(f\"The number {n} is a perfect number\")\n",
    "    else:\n",
    "        print(f\"The number {n} is a not perfect number\")"
   ]
  },
  {
   "cell_type": "code",
   "execution_count": 16,
   "metadata": {},
   "outputs": [
    {
     "name": "stdout",
     "output_type": "stream",
     "text": [
      "The number 8128 is a perfect number\n"
     ]
    }
   ],
   "source": [
    "perfect_number(8128)"
   ]
  },
  {
   "cell_type": "markdown",
   "metadata": {},
   "source": [
    "## Q7. Sphere Volume\n",
    "\n",
    "You are given a positive integer r denoting the radius of a sphere as a parameter. Write a program to calculate the volume of the sphere. The volume of a sphere having radius R is given by (4 * π * R3) / 3.\n",
    "\n",
    "NOTE: Return the volume of the sphere up to two decimal places. You can use round().\n",
    "\n",
    "NOTE2: Use pi as 22/7 (not math.pi).\n",
    "\n",
    "Input Format:\n",
    "\n",
    "The first line indicates the number of the test cases. For each testcase there will be one line of input:\n",
    "The one line contains r in integer format.\n",
    "\n",
    "Output Format:\n",
    "\n",
    "The volume of the sphere in float format is printed for each testcase in a new line.\n",
    "\n",
    "Sample Input:\n",
    "\n",
    "1\n",
    "\n",
    "8\n",
    "\n",
    "Sample Output:\n",
    "\n",
    "2145.52\n"
   ]
  },
  {
   "cell_type": "code",
   "execution_count": 17,
   "metadata": {},
   "outputs": [],
   "source": [
    "def volume_sphere(r):\n",
    "    '''input: r = Input in integer format\n",
    "    output:return Vol of sphere upto two decimals'''\n",
    "    \n",
    "    Vol=(4/3)*(22/7)*(r**3)\n",
    "    \n",
    "    \n",
    "    \n",
    "    return round(Vol,2)\n"
   ]
  },
  {
   "cell_type": "code",
   "execution_count": 18,
   "metadata": {},
   "outputs": [
    {
     "data": {
      "text/plain": [
       "5577.52"
      ]
     },
     "execution_count": 18,
     "metadata": {},
     "output_type": "execute_result"
    }
   ],
   "source": [
    "volume_sphere(11)"
   ]
  },
  {
   "cell_type": "markdown",
   "metadata": {},
   "source": [
    "## Q8. Star pattern\n",
    "\n",
    "Write a function to print a pattern similar to the one shown in the sample using n which is given to you as an argument to a function. Here n defines the number of rows.\n",
    "\n",
    "Note: There are no spaces between the stars in the first row, and there are no spaces at the end of each row.\n",
    "\n",
    "Input Format:\n",
    "\n",
    "The only argument to the function in an integer n.\n",
    "\n",
    "Output Format:\n",
    "\n",
    "Print Star Pattern in string format for each testcase.\n",
    "\n",
    "Sample Input:\n",
    "\n",
    "8\n",
    "\n",
    "Sample Output:\n",
    "\n",
    "# ********\n",
    "# *     *\n",
    "# *    *\n",
    "# *   *\n",
    "# *  *\n",
    "# * *\n",
    "# **\n",
    "# *\n",
    "\n",
    "Sample Explanation:\n",
    "\n",
    "In the first row, (n=8) stars are printed. \n",
    "In the second row, 2 stars are printed with 5 spaces between them. \n",
    "This number of spaces keeps decreasing by 1 after the second row until the last row where the number of spaces becomes zero and only one star is printed.\n"
   ]
  },
  {
   "cell_type": "code",
   "execution_count": 19,
   "metadata": {},
   "outputs": [],
   "source": [
    "def star(n):\n",
    "    '''input: n = An Integer value defines number of rows\n",
    "    output: print the star pattern'''\n",
    "    \n",
    "    print(n*\"*\")\n",
    "    for i in range(n-1,1,-1):\n",
    "        print(\"*\"+\" \"*(i-2)+\"*\")\n",
    "    print(\"*\")     "
   ]
  },
  {
   "cell_type": "code",
   "execution_count": 20,
   "metadata": {},
   "outputs": [
    {
     "name": "stdout",
     "output_type": "stream",
     "text": [
      "*********\n",
      "*      *\n",
      "*     *\n",
      "*    *\n",
      "*   *\n",
      "*  *\n",
      "* *\n",
      "**\n",
      "*\n"
     ]
    }
   ],
   "source": [
    "star(9)"
   ]
  }
 ],
 "metadata": {
  "kernelspec": {
   "display_name": "Python 3.9 (tensorflow)",
   "language": "python",
   "name": "tensorflow"
  },
  "language_info": {
   "codemirror_mode": {
    "name": "ipython",
    "version": 3
   },
   "file_extension": ".py",
   "mimetype": "text/x-python",
   "name": "python",
   "nbconvert_exporter": "python",
   "pygments_lexer": "ipython3",
   "version": "3.9.18"
  },
  "orig_nbformat": 4
 },
 "nbformat": 4,
 "nbformat_minor": 2
}
