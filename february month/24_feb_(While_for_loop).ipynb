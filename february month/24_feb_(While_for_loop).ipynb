{
 "cells": [
  {
   "cell_type": "markdown",
   "metadata": {},
   "source": [
    "## Q1.\n",
    "\n",
    "Problem Description\n",
    "\n",
    "Write a program to print all even numbers from 1 to N where you have to take N as input from the user.\n",
    "Note: Use while-loop OR for-loop, according to session flow.\n",
    "\n",
    "Note: You can use int(input()) for obtaining user input of number N.\n",
    "\n",
    "Problem Constraints\n",
    "\n",
    "1 &lt;= N &lt;= 1000000\n",
    "\n",
    "Input Format\n",
    "\n",
    "A single line representing N\n",
    "\n",
    "Output Format\n",
    "\n",
    "All even numbers from 1 to N are separated by spaces.\n",
    "\n",
    "Example Input\n",
    "\n",
    "Input 1:\n",
    "\n",
    "5\n",
    "\n",
    "Input 2:\n",
    "\n",
    "10\n",
    "\n",
    "Example Output\n",
    "\n",
    "Output 1:\n",
    "\n",
    "2 4 \n",
    "\n",
    "Output 2:\n",
    "\n",
    "2 4 6 8 10\n",
    "\n",
    "Example Explanation\n",
    "\n",
    "Sample 1:\n",
    "\n",
    "2 4\n",
    "\n",
    "The even numbers between 1 to 5 are 2 and 4. So the numbers 2 and 4 are printed separated by space.\n",
    "\n",
    "Output 2:\n",
    "\n",
    "2 4 6 8 10\n",
    "\n",
    "The even numbers between 1 to 10 are 2, 4, 6, 8 and 10. So the numbers 2, 4, 6, 8, 10 are printed separated by space.\n"
   ]
  },
  {
   "cell_type": "code",
   "execution_count": 1,
   "metadata": {},
   "outputs": [
    {
     "name": "stdout",
     "output_type": "stream",
     "text": [
      "2 4 "
     ]
    }
   ],
   "source": [
    "num = int(input(\"Enter the number: \"))\n",
    "n = 1\n",
    "while n<=num:\n",
    "    if (n % 2) == 0:\n",
    "        print(n, end=\" \")\n",
    "        n+=1\n",
    "    else:\n",
    "        n+=1"
   ]
  },
  {
   "cell_type": "code",
   "execution_count": 2,
   "metadata": {},
   "outputs": [
    {
     "name": "stdout",
     "output_type": "stream",
     "text": [
      "2 4 6 8 10 12 14 16 "
     ]
    }
   ],
   "source": [
    "input_by_user = int(input())\n",
    "for i in range(1, input_by_user+1):\n",
    "    if (i%2)==0:\n",
    "        print(i, end = \" \")\n",
    "    "
   ]
  },
  {
   "cell_type": "markdown",
   "metadata": {},
   "source": [
    "## Q2. \n",
    "\n",
    "Take the input from the user. You want to find the first n natural even numbers using while loop."
   ]
  },
  {
   "cell_type": "code",
   "execution_count": 3,
   "metadata": {},
   "outputs": [
    {
     "name": "stdout",
     "output_type": "stream",
     "text": [
      "2\n",
      "4\n",
      "6\n",
      "8\n",
      "10\n",
      "12\n",
      "14\n",
      "16\n",
      "18\n",
      "20\n",
      "22\n",
      "24\n",
      "26\n",
      "28\n"
     ]
    }
   ],
   "source": [
    "numbers_from_user = int(input(\"Enter the number till  where you want to generate the series: \"))\n",
    "count = 1\n",
    "while count <= numbers_from_user:\n",
    "    if (count%2==0):\n",
    "        print(count)\n",
    "        count+=1\n",
    "    else:\n",
    "        count+=1\n"
   ]
  },
  {
   "cell_type": "code",
   "execution_count": 4,
   "metadata": {},
   "outputs": [
    {
     "name": "stdout",
     "output_type": "stream",
     "text": [
      "2\n",
      "4\n",
      "6\n",
      "8\n"
     ]
    }
   ],
   "source": [
    "numbers_from_u = int(input(\"Enter the number till  where you want to generate the series: \"))\n",
    "for i in range(1, numbers_from_u+1):\n",
    "    if (i%2==0):\n",
    "        print(i)"
   ]
  },
  {
   "cell_type": "markdown",
   "metadata": {},
   "source": [
    "## Q3.\n",
    "\n",
    "Problem Description\n",
    "\n",
    "Take an input of a number A from the user. Print all perfect squares less than or equal to A.\n",
    "Note - Perfect squares are integers whose square root is an integer. (For Example: 16 is perfect square as √16 = 4, or 42 = 16)\n",
    "\n",
    "\n",
    "Problem Constraints\n",
    "\n",
    "1 <= A <= 104\n",
    "\n",
    "\n",
    "\n",
    "Input Format\n",
    "\n",
    "A single line consisting of a integer A.\n",
    "\n",
    "\n",
    "\n",
    "Output Format\n",
    "\n",
    "Print perfect squares less than or equal to A in a single line in a space-separated manner.\n",
    "\n",
    "\n",
    "\n",
    "Example Input\n",
    "\n",
    "Input 1:\n",
    "\n",
    "20\n",
    "\n",
    "Input 2:\n",
    "\n",
    "100\n",
    "\n",
    "\n",
    "Example Output\n",
    "\n",
    "Output 1:\n",
    "\n",
    "1 4 9 16\n",
    "\n",
    "Output 2:\n",
    "\n",
    "1 4 9 16 25 36 49 64 81 100\n"
   ]
  },
  {
   "cell_type": "code",
   "execution_count": 5,
   "metadata": {},
   "outputs": [
    {
     "name": "stdout",
     "output_type": "stream",
     "text": [
      "1 4 9 16 25 36 "
     ]
    }
   ],
   "source": [
    "user = int(input(\"Enter the number: \"))\n",
    "iteration = 1\n",
    "while iteration<=user:\n",
    "    square_root = iteration**0.5\n",
    "    if square_root.is_integer():\n",
    "        print(iteration, end = \" \")\n",
    "        iteration+=1\n",
    "    else:\n",
    "        iteration+=1"
   ]
  },
  {
   "cell_type": "code",
   "execution_count": 6,
   "metadata": {},
   "outputs": [
    {
     "name": "stdout",
     "output_type": "stream",
     "text": [
      "1\n",
      "4\n",
      "9\n",
      "16\n",
      "25\n",
      "36\n",
      "49\n"
     ]
    }
   ],
   "source": [
    "n = int(input(\"Enter the number: \"))\n",
    "for i in range(1, n+1):\n",
    "    sqrt = i**0.5\n",
    "    if sqrt.is_integer():\n",
    "        print(i)"
   ]
  },
  {
   "cell_type": "markdown",
   "metadata": {},
   "source": [
    "## Q4. \n",
    "\n",
    "What will be the output of the following code:\n",
    "\n",
    "for i in range(-6, -10, -1):\n",
    "\n",
    "print(i, end =\" \")"
   ]
  },
  {
   "cell_type": "code",
   "execution_count": 7,
   "metadata": {},
   "outputs": [
    {
     "name": "stdout",
     "output_type": "stream",
     "text": [
      "-6 -7 -8 -9 "
     ]
    }
   ],
   "source": [
    "for i in range(-6, -10, -1):\n",
    "\n",
    "    print(i, end =\" \")"
   ]
  },
  {
   "cell_type": "markdown",
   "metadata": {},
   "source": [
    "## Q5.\n",
    "\n",
    "Problem Description\n",
    "\n",
    "Write a program to find sum all Natural numbers from 1 to N where you have to take N as input from user\n",
    "\n",
    "\n",
    "Problem Constraints\n",
    "\n",
    "1 <= N <= 1000\n",
    "\n",
    "\n",
    "\n",
    "Input Format\n",
    "\n",
    "A single line representing N\n",
    "\n",
    "\n",
    "\n",
    "Output Format\n",
    "\n",
    "A single integer showing sum of all Natural numbers from 1 to N\n",
    "\n",
    "\n",
    "\n",
    "Example Input\n",
    "\n",
    "Input 1:\n",
    "\n",
    "5\n",
    "\n",
    "Input 2:\n",
    "\n",
    "10\n",
    "\n",
    "\n",
    "Example Output\n",
    "\n",
    "Output 1:\n",
    "\n",
    "15\n",
    "\n",
    "Output 2:\n",
    "\n",
    "55\n"
   ]
  },
  {
   "cell_type": "code",
   "execution_count": 8,
   "metadata": {},
   "outputs": [
    {
     "name": "stdout",
     "output_type": "stream",
     "text": [
      "28\n"
     ]
    }
   ],
   "source": [
    "user_numbers = int(input())\n",
    "it = 1\n",
    "addition = 0\n",
    "while it<=user_numbers:\n",
    "    addition = addition + it\n",
    "    it+=1\n",
    "print(addition)"
   ]
  },
  {
   "cell_type": "code",
   "execution_count": 9,
   "metadata": {},
   "outputs": [
    {
     "name": "stdout",
     "output_type": "stream",
     "text": [
      "21\n"
     ]
    }
   ],
   "source": [
    "user_num = int(input())\n",
    "sum = 0\n",
    "for i in range(1, user_num+1):\n",
    "    sum = sum+i\n",
    "print(sum)"
   ]
  },
  {
   "cell_type": "markdown",
   "metadata": {},
   "source": [
    "## Q6.\n",
    "\n",
    "Problem Description\n",
    "\n",
    "Given an integer N, print N stars in a single line.\n",
    "\n",
    "For example if N = 5 then pattern will be like:\n",
    "\n",
    "\"*****\"\n",
    "\n",
    "Problem Constraints\n",
    "2 <= N <= 100\n",
    "\n",
    "\n",
    "\n",
    "Input Format\n",
    "\n",
    "Single line input contains a single integer N.\n",
    "\n",
    "\n",
    "\n",
    "Output Format\n",
    "\n",
    "Output N stars in a single line.\n",
    "\n",
    "\n",
    "\n",
    "Example Input\n",
    "\n",
    "Input 1:\n",
    "\n",
    " 2\n",
    "\n",
    "Input 2:\n",
    "\n",
    " 3\n",
    "\n",
    "\n",
    "Example Output\n",
    "\n",
    "Output 1:\n",
    "\n",
    "\"**\"\n",
    "\n",
    "Output 2:\n",
    "\n",
    "\"***\"\n"
   ]
  },
  {
   "cell_type": "code",
   "execution_count": 10,
   "metadata": {},
   "outputs": [
    {
     "name": "stdout",
     "output_type": "stream",
     "text": [
      "******\n"
     ]
    }
   ],
   "source": [
    "star_num = int(input())\n",
    "print(star_num*\"*\")"
   ]
  },
  {
   "cell_type": "markdown",
   "metadata": {},
   "source": [
    "## Q7. \n",
    "\n",
    "Fill in the missing piece of code to get the value of ‘a’ as 5. (choose the block names)\n",
    "\n",
    "a = 0\n",
    "\n",
    "while True:\n",
    "\n",
    "    ___________\n",
    "\n",
    "    if a == 5:\n",
    "\n",
    "        break\n",
    "\n",
    "A.\n",
    "\n",
    "a = a+1\n",
    "\n",
    "a %= 5\n",
    "\n",
    "a += 1\n",
    "\n",
    "B.\n",
    "\n",
    "a = a + 2\n",
    "\n",
    "a %= 5\n",
    "\n",
    "a += 1\n",
    "\n",
    "C.\n",
    "\n",
    "a = a + 1\n",
    "\n",
    "a %= 5\n",
    "\n",
    "a += 2\n",
    "\n",
    "D.\n",
    "\n",
    "a = a + 5\n",
    "\n",
    "a %= 5\n",
    "\n",
    "a += 5"
   ]
  },
  {
   "cell_type": "markdown",
   "metadata": {},
   "source": [
    "## Q8.\n",
    "\n",
    "Problem Description\n",
    "\n",
    "Take T (number of test cases) as input.\n",
    "\n",
    "For each test case, take integer N as input and Print the count of digits of that number.\n",
    "\n",
    "Note: No of digits for number 0 is considered as 1.\n",
    "\n",
    "Problem Constraints\n",
    "\n",
    "1 <= T <= 100\n",
    "0 <= N <= 100000000\n",
    "\n",
    "Input Format\n",
    "\n",
    "The first line is the number T which denotes the total number of test cases.\n",
    "\n",
    "Next T lines contain an integer N for which you have to print the number of digits.\n",
    "\n",
    "Output Format\n",
    "\n",
    "For T different Numbers, Print the number of digits in separate lines.\n",
    "\n",
    "Example Input\n",
    "\n",
    "Input 1: \n",
    "\n",
    "2\n",
    "\n",
    "0\n",
    "\n",
    "1\n",
    "\n",
    "Input 2:\n",
    "\n",
    "2\n",
    "\n",
    "100\n",
    "\n",
    "10101\n",
    "\n",
    "Example Output\n",
    "\n",
    "Output 1:\n",
    "\n",
    "1\n",
    "\n",
    "1\n",
    "\n",
    "Output 2:\n",
    "\n",
    "3\n",
    "\n",
    "5\n",
    "\n",
    "Example Explanation\n",
    "\n",
    "Explanation 1:\n",
    "\n",
    "0 and 1 both have only one digit.\n",
    "\n",
    "Explanation 2:\n",
    "\n",
    "100 has three digits and 10101 has 5 digits."
   ]
  },
  {
   "cell_type": "code",
   "execution_count": 11,
   "metadata": {},
   "outputs": [
    {
     "name": "stdout",
     "output_type": "stream",
     "text": [
      "5\n",
      "8\n"
     ]
    }
   ],
   "source": [
    "test_cases = int(input(\"Enter the number of test cases: \"))\n",
    "iter = 1\n",
    "\n",
    "while iter <= test_cases:\n",
    "    user_input = input(\"Enter a string: \")\n",
    "    count = 0 \n",
    "    iter = iter + 1\n",
    "    for char in user_input:\n",
    "        if char.isalnum():\n",
    "            count = count + 1\n",
    "    print(count)\n"
   ]
  },
  {
   "cell_type": "code",
   "execution_count": 12,
   "metadata": {},
   "outputs": [
    {
     "name": "stdout",
     "output_type": "stream",
     "text": [
      "6\n",
      "7\n",
      "8\n"
     ]
    }
   ],
   "source": [
    "tc=int(input())\n",
    "t=1\n",
    "while t<=tc:\n",
    "    t+=1\n",
    "    n=input()\n",
    "    l=len(str(n))\n",
    "    print(l)"
   ]
  },
  {
   "cell_type": "markdown",
   "metadata": {},
   "source": [
    "## Q9. \n",
    "\n",
    "Take a two numbers from the user. We want to find the Quotient(q), and Remainder(r) of the division of 2 numbers, i.e. x is divided by y."
   ]
  },
  {
   "cell_type": "code",
   "execution_count": 13,
   "metadata": {},
   "outputs": [
    {
     "name": "stdout",
     "output_type": "stream",
     "text": [
      "2 1\n"
     ]
    }
   ],
   "source": [
    "x = int(input())\n",
    "y = int(input())\n",
    "\n",
    "q = 0\n",
    "r = 0\n",
    "\n",
    "while x >= y:\n",
    "    x -= y\n",
    "    q += 1\n",
    "print(q, x)"
   ]
  },
  {
   "cell_type": "markdown",
   "metadata": {},
   "source": [
    "## Q10.\n",
    "\n",
    "Take a two numbers from the user i.e. a number and a base. Write a code to find the exponent, i.e. the number of times base should be multiplied by itself to get num.\n",
    "\n"
   ]
  },
  {
   "cell_type": "code",
   "execution_count": 14,
   "metadata": {},
   "outputs": [
    {
     "name": "stdout",
     "output_type": "stream",
     "text": [
      "2\n"
     ]
    }
   ],
   "source": [
    "num=16\n",
    "base=4\n",
    "cnt=0\n",
    "while(num>1):\n",
    "    num /= base\n",
    "    cnt+=1\n",
    "print(cnt)"
   ]
  },
  {
   "cell_type": "code",
   "execution_count": null,
   "metadata": {},
   "outputs": [],
   "source": []
  }
 ],
 "metadata": {
  "kernelspec": {
   "display_name": "Python 3.9 (tensorflow)",
   "language": "python",
   "name": "tensorflow"
  },
  "language_info": {
   "codemirror_mode": {
    "name": "ipython",
    "version": 3
   },
   "file_extension": ".py",
   "mimetype": "text/x-python",
   "name": "python",
   "nbconvert_exporter": "python",
   "pygments_lexer": "ipython3",
   "version": "3.9.18"
  },
  "orig_nbformat": 4
 },
 "nbformat": 4,
 "nbformat_minor": 2
}
