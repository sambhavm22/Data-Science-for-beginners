{
 "cells": [
  {
   "cell_type": "markdown",
   "metadata": {},
   "source": [
    "## Q1. \n",
    "Problem Description\n",
    "\n",
    "Take a name A as input from the user and print \"Hello A\", where A is the name in input.\n",
    "\n",
    "Problem Constraints\n",
    "\n",
    "1 <= len(A) <= 15 Characters in A are in lowercase English Alphabets.\n",
    "Input Format\n",
    "\n",
    "There is a single input line, which is the string **A**.\n",
    "Output Format\n",
    "\n",
    "Print in a single line \"Hello A\" without quotes.\n",
    "Example Input\n",
    "\n",
    "Input 1:-\n",
    "Ram\n",
    "Input 2:-\n",
    "Shyam\n",
    "Example Output\n",
    "\n",
    "Output 1:-\n",
    "Hello Ram\n",
    "Output 2:-\n",
    "Hello Shyam\n"
   ]
  },
  {
   "cell_type": "code",
   "execution_count": 2,
   "metadata": {},
   "outputs": [
    {
     "name": "stdout",
     "output_type": "stream",
     "text": [
      "sambhav\n",
      "Hello sambhav\n"
     ]
    }
   ],
   "source": [
    "def main():\n",
    "    # YOUR CODE GOES HERE\n",
    "    # Please take input and print output to standard input/output (stdin/stdout)\n",
    "    # E.g. 'input()/raw_input()' for input & 'print' for output\n",
    "\n",
    "    x = str(input())\n",
    "    print(\"Hello\", x)\n",
    "    return 0\n",
    "\n",
    "if __name__ == '__main__':\n",
    "    main()"
   ]
  },
  {
   "cell_type": "markdown",
   "metadata": {},
   "source": [
    "## Q2.\n",
    "\n",
    "Problem Description\n",
    "Perform the following operations on 6 and 3 and print their respective outputs in different lines.\n",
    "\n",
    "1. Addition\n",
    "2. Subtraction\n",
    "3. Multiplication\n",
    "4. Division\n",
    "\n",
    "\n",
    "Output Format\n",
    "Print the output of 6+3, 6-3, 6*3, 6/3 in separate lines.\n",
    "\n",
    "\n",
    "Example Output\n",
    "9,\n",
    "3,\n",
    "18,\n",
    "2.0\n",
    "\n",
    "\n",
    "Example Explanation\n",
    "6 + 3 = 9,\n",
    "6 - 3 = 3,\n",
    "6 * 3 = 18,\n",
    "6 / 3 = 2.0"
   ]
  },
  {
   "cell_type": "code",
   "execution_count": 9,
   "metadata": {},
   "outputs": [
    {
     "name": "stdout",
     "output_type": "stream",
     "text": [
      "9\n",
      "3\n",
      "18\n",
      "2.0\n"
     ]
    }
   ],
   "source": [
    "print(6+3)\n",
    "print(6-3)\n",
    "print(6*3)\n",
    "print(6/3)"
   ]
  },
  {
   "cell_type": "markdown",
   "metadata": {},
   "source": [
    "## Q3.\n",
    "\n",
    "Problem Description\n",
    "Print the first five letters of the English alphabet i.e. A, B, C, D and E.\n",
    "\n",
    "\n",
    "Output Format\n",
    "Print the characters in separate lines.\n",
    "\n",
    "\n",
    "Example Output\n",
    "A\n",
    "B\n",
    "C\n",
    "D\n",
    "E"
   ]
  },
  {
   "cell_type": "code",
   "execution_count": 10,
   "metadata": {},
   "outputs": [
    {
     "name": "stdout",
     "output_type": "stream",
     "text": [
      "A\n",
      "B\n",
      "C\n",
      "D\n",
      "E\n"
     ]
    }
   ],
   "source": [
    "print(\"A\")\n",
    "print(\"B\")\n",
    "print(\"C\")\n",
    "print(\"D\")\n",
    "print(\"E\")"
   ]
  },
  {
   "cell_type": "markdown",
   "metadata": {},
   "source": [
    "## Q4.\n",
    "\n",
    "Problem Description\n",
    "\n",
    "Your friend Rahul plans to visit exotic countries all around the world. Sadly, Rahul's math skills aren't good enough. Take the amount of money Rahul has before the currency exchange and the amount of money that is spent from his savings as input, print the amount of money that remains in his savings.\n",
    "\n",
    "Input Format\n",
    "\n",
    "The first line contains an integer N denoting the total savings, the amount of money before exchange.\n",
    "The second line contains an integer M denoting the exchanging amount, denoting the amount of money that is spent from the savings.\n",
    "Output Format\n",
    "\n",
    "Print a single line denoting the amount of money that is left in his savings.\n",
    "Problem Constraints\n",
    "\n",
    "1 <= N <= 1000\n",
    "1 <= M <= N\n",
    "Example Input\n",
    "\n",
    "Input:-\n",
    "116\n",
    "\n",
    "12\n",
    "\n",
    "Example Output\n",
    "\n",
    "Output:-\n",
    "104\n",
    "\n",
    "Note: The problem constraints mean that when we test your code, the test cases used in the backend can have input values only within those constraints. You need not implement them in your code. You must ensure your code will work for all such input values!"
   ]
  },
  {
   "cell_type": "code",
   "execution_count": 3,
   "metadata": {},
   "outputs": [
    {
     "name": "stdout",
     "output_type": "stream",
     "text": [
      "Enter the value for N: 65\n",
      "Enter the value for M: 12\n",
      "53\n"
     ]
    }
   ],
   "source": [
    "N = int(input(\"Enter the value for N: \"))\n",
    "M = int(input(\"Enter the value for M: \"))\n",
    "\n",
    "print(N-M)"
   ]
  },
  {
   "cell_type": "code",
   "execution_count": 15,
   "metadata": {},
   "outputs": [
    {
     "name": "stdout",
     "output_type": "stream",
     "text": [
      "Invalid input. Please enter valid numerical values.\n"
     ]
    }
   ],
   "source": []
  }
 ],
 "metadata": {
  "kernelspec": {
   "display_name": "Python 3.9 (tensorflow)",
   "language": "python",
   "name": "tensorflow"
  },
  "language_info": {
   "codemirror_mode": {
    "name": "ipython",
    "version": 3
   },
   "file_extension": ".py",
   "mimetype": "text/x-python",
   "name": "python",
   "nbconvert_exporter": "python",
   "pygments_lexer": "ipython3",
   "version": "3.9.18"
  }
 },
 "nbformat": 4,
 "nbformat_minor": 2
}
