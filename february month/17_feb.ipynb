{
 "cells": [
  {
   "cell_type": "markdown",
   "metadata": {},
   "source": [
    "## Q1. \n",
    "Problem Description\n",
    "\n",
    "Take a name A as input from the user and print \"Hello A\", where A is the name in input.\n",
    "\n",
    "Problem Constraints\n",
    "\n",
    "1 <= len(A) <= 15 Characters in A are in lowercase English Alphabets.\n",
    "Input Format\n",
    "\n",
    "There is a single input line, which is the string **A**.\n",
    "Output Format\n",
    "\n",
    "Print in a single line \"Hello A\" without quotes.\n",
    "Example Input\n",
    "\n",
    "Input 1:-\n",
    "Ram\n",
    "Input 2:-\n",
    "Shyam\n",
    "Example Output\n",
    "\n",
    "Output 1:-\n",
    "Hello Ram\n",
    "Output 2:-\n",
    "Hello Shyam\n"
   ]
  },
  {
   "cell_type": "code",
   "execution_count": null,
   "metadata": {},
   "outputs": [],
   "source": [
    "def main():\n",
    "    # YOUR CODE GOES HERE\n",
    "    # Please take input and print output to standard input/output (stdin/stdout)\n",
    "    # E.g. 'input()/raw_input()' for input & 'print' for output\n",
    "\n",
    "    x = str(input())\n",
    "    print(\"Hello\", x)\n",
    "    return 0\n",
    "\n",
    "if __name__ == '__main__':\n",
    "    main()"
   ]
  },
  {
   "cell_type": "code",
   "execution_count": null,
   "metadata": {},
   "outputs": [],
   "source": []
  }
 ],
 "metadata": {
  "kernelspec": {
   "display_name": "Python 3.9 (tensorflow)",
   "language": "python",
   "name": "tensorflow"
  },
  "language_info": {
   "codemirror_mode": {
    "name": "ipython",
    "version": 3
   },
   "file_extension": ".py",
   "mimetype": "text/x-python",
   "name": "python",
   "nbconvert_exporter": "python",
   "pygments_lexer": "ipython3",
   "version": "3.9.18"
  },
  "orig_nbformat": 4
 },
 "nbformat": 4,
 "nbformat_minor": 2
}
