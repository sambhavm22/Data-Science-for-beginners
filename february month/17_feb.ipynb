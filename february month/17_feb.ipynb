{
 "cells": [
  {
   "cell_type": "markdown",
   "metadata": {},
   "source": [
    "## Q1. \n",
    "Problem Description\n",
    "\n",
    "Take a name A as input from the user and print \"Hello A\", where A is the name in input.\n",
    "\n",
    "Problem Constraints\n",
    "\n",
    "1 <= len(A) <= 15 Characters in A are in lowercase English Alphabets.\n",
    "Input Format\n",
    "\n",
    "There is a single input line, which is the string **A**.\n",
    "Output Format\n",
    "\n",
    "Print in a single line \"Hello A\" without quotes.\n",
    "Example Input\n",
    "\n",
    "Input 1:-\n",
    "Ram\n",
    "Input 2:-\n",
    "Shyam\n",
    "Example Output\n",
    "\n",
    "Output 1:-\n",
    "Hello Ram\n",
    "Output 2:-\n",
    "Hello Shyam\n"
   ]
  },
  {
   "cell_type": "code",
   "execution_count": 2,
   "metadata": {},
   "outputs": [
    {
     "name": "stdout",
     "output_type": "stream",
     "text": [
      "sambhav\n",
      "Hello sambhav\n"
     ]
    }
   ],
   "source": [
    "def main():\n",
    "    # YOUR CODE GOES HERE\n",
    "    # Please take input and print output to standard input/output (stdin/stdout)\n",
    "    # E.g. 'input()/raw_input()' for input & 'print' for output\n",
    "\n",
    "    x = str(input())\n",
    "    print(\"Hello\", x)\n",
    "    return 0\n",
    "\n",
    "if __name__ == '__main__':\n",
    "    main()"
   ]
  },
  {
   "cell_type": "markdown",
   "metadata": {},
   "source": [
    "## Q2.\n",
    "\n",
    "Problem Description\n",
    "Perform the following operations on 6 and 3 and print their respective outputs in different lines.\n",
    "\n",
    "1. Addition\n",
    "2. Subtraction\n",
    "3. Multiplication\n",
    "4. Division\n",
    "\n",
    "\n",
    "Output Format\n",
    "Print the output of 6+3, 6-3, 6*3, 6/3 in separate lines.\n",
    "\n",
    "\n",
    "Example Output\n",
    "9,\n",
    "3,\n",
    "18,\n",
    "2.0\n",
    "\n",
    "\n",
    "Example Explanation\n",
    "6 + 3 = 9,\n",
    "6 - 3 = 3,\n",
    "6 * 3 = 18,\n",
    "6 / 3 = 2.0"
   ]
  },
  {
   "cell_type": "code",
   "execution_count": 9,
   "metadata": {},
   "outputs": [
    {
     "name": "stdout",
     "output_type": "stream",
     "text": [
      "9\n",
      "3\n",
      "18\n",
      "2.0\n"
     ]
    }
   ],
   "source": [
    "print(6+3)\n",
    "print(6-3)\n",
    "print(6*3)\n",
    "print(6/3)"
   ]
  },
  {
   "cell_type": "markdown",
   "metadata": {},
   "source": [
    "## Q3.\n",
    "\n",
    "Problem Description\n",
    "Print the first five letters of the English alphabet i.e. A, B, C, D and E.\n",
    "\n",
    "\n",
    "Output Format\n",
    "Print the characters in separate lines.\n",
    "\n",
    "\n",
    "Example Output\n",
    "A\n",
    "B\n",
    "C\n",
    "D\n",
    "E"
   ]
  },
  {
   "cell_type": "code",
   "execution_count": 10,
   "metadata": {},
   "outputs": [
    {
     "name": "stdout",
     "output_type": "stream",
     "text": [
      "A\n",
      "B\n",
      "C\n",
      "D\n",
      "E\n"
     ]
    }
   ],
   "source": [
    "print(\"A\")\n",
    "print(\"B\")\n",
    "print(\"C\")\n",
    "print(\"D\")\n",
    "print(\"E\")"
   ]
  },
  {
   "cell_type": "markdown",
   "metadata": {},
   "source": [
    "## Q4.\n",
    "\n",
    "Problem Description\n",
    "\n",
    "Your friend Rahul plans to visit exotic countries all around the world. Sadly, Rahul's math skills aren't good enough. Take the amount of money Rahul has before the currency exchange and the amount of money that is spent from his savings as input, print the amount of money that remains in his savings.\n",
    "\n",
    "Input Format\n",
    "\n",
    "The first line contains an integer N denoting the total savings, the amount of money before exchange.\n",
    "The second line contains an integer M denoting the exchanging amount, denoting the amount of money that is spent from the savings.\n",
    "Output Format\n",
    "\n",
    "Print a single line denoting the amount of money that is left in his savings.\n",
    "Problem Constraints\n",
    "\n",
    "1 <= N <= 1000\n",
    "1 <= M <= N\n",
    "Example Input\n",
    "\n",
    "Input:-\n",
    "116\n",
    "\n",
    "12\n",
    "\n",
    "Example Output\n",
    "\n",
    "Output:-\n",
    "104\n",
    "\n",
    "Note: The problem constraints mean that when we test your code, the test cases used in the backend can have input values only within those constraints. You need not implement them in your code. You must ensure your code will work for all such input values!"
   ]
  },
  {
   "cell_type": "code",
   "execution_count": 17,
   "metadata": {},
   "outputs": [
    {
     "ename": "ValueError",
     "evalue": "invalid literal for int() with base 10: ''",
     "output_type": "error",
     "traceback": [
      "\u001b[0;31m---------------------------------------------------------------------------\u001b[0m",
      "\u001b[0;31mValueError\u001b[0m                                Traceback (most recent call last)",
      "\u001b[1;32m/Users/aakanksha/Data-Science-for-beginners/february month/17_feb.ipynb Cell 8\u001b[0m line \u001b[0;36m1\n\u001b[0;32m----> <a href='vscode-notebook-cell:/Users/aakanksha/Data-Science-for-beginners/february%20month/17_feb.ipynb#X33sZmlsZQ%3D%3D?line=0'>1</a>\u001b[0m N \u001b[39m=\u001b[39m \u001b[39mint\u001b[39;49m(\u001b[39minput\u001b[39;49m(\u001b[39m\"\u001b[39;49m\u001b[39mEnter the value for N: \u001b[39;49m\u001b[39m\"\u001b[39;49m))\n\u001b[1;32m      <a href='vscode-notebook-cell:/Users/aakanksha/Data-Science-for-beginners/february%20month/17_feb.ipynb#X33sZmlsZQ%3D%3D?line=1'>2</a>\u001b[0m M \u001b[39m=\u001b[39m \u001b[39mint\u001b[39m(\u001b[39minput\u001b[39m(\u001b[39m\"\u001b[39m\u001b[39mEnter the value for M: \u001b[39m\u001b[39m\"\u001b[39m))\n\u001b[1;32m      <a href='vscode-notebook-cell:/Users/aakanksha/Data-Science-for-beginners/february%20month/17_feb.ipynb#X33sZmlsZQ%3D%3D?line=3'>4</a>\u001b[0m \u001b[39mprint\u001b[39m(N\u001b[39m-\u001b[39mM)\n",
      "\u001b[0;31mValueError\u001b[0m: invalid literal for int() with base 10: ''"
     ]
    }
   ],
   "source": [
    "N = int(input(\"Enter the value for N: \"))\n",
    "M = int(input(\"Enter the value for M: \"))\n",
    "\n",
    "print(N-M)"
   ]
  },
  {
   "cell_type": "markdown",
   "metadata": {},
   "source": [
    "## Q5.\n",
    "\n",
    "Problem Description\n",
    "Take two names A and B as input from the user, print \"A says Hi to B\" (Without quotations), where A and B are the names in input.\n",
    "\n",
    "Problem Constraints\n",
    "1 <= len(A), len(B) <= 15\n",
    "Characters in A and B are in lowercase English Alphabets.\n",
    "\n",
    "\n",
    "Input Format\n",
    "There are two input lines\n",
    "The first line has a string A.\n",
    "The second line has a string B.\n",
    "\n",
    "\n",
    "Output Format\n",
    "\n",
    "Print in a single line A says Hi to B.\n",
    "\n",
    "\n",
    "Example Input\n",
    "\n",
    "Input:-\n",
    "\n",
    "Ram\n",
    "\n",
    "Shyam\n",
    "\n",
    "\n",
    "Example Output\n",
    "\n",
    "Output:-\n",
    "\n",
    "Ram says Hi to Shyam"
   ]
  },
  {
   "cell_type": "code",
   "execution_count": null,
   "metadata": {},
   "outputs": [],
   "source": [
    "A = input()\n",
    "B = input()\n",
    "\n",
    "print(A + \" says Hi to \" + B)"
   ]
  },
  {
   "cell_type": "markdown",
   "metadata": {},
   "source": [
    "# Additional Problems\n",
    "\n",
    "## Q1.\n",
    "\n",
    "Problem Description\n",
    "You're going to write some code to help you cook a gorgeous lasagna from your favorite cookbook. According to your cookbook, the Lasagna should be in the oven for 40 minutes. Given the time (in minutes), the lasagna has been in the oven, find how many more minutes the lasagna still needs to bake for.\n",
    "\n",
    "\n",
    "Problem Constraints\n",
    "0 <= N <= 40\n",
    "\n",
    "\n",
    "Input Format\n",
    "The only first line contains the integer N, denoting the actual time (in minutes) the lasagna has been in the oven for.\n",
    "\n",
    "\n",
    "Output Format\n",
    "Print in a single line how many minutes the lasagna needs to bake.\n",
    "\n",
    "\n",
    "Example Input\n",
    "\n",
    "Input: \n",
    "\n",
    "30\n",
    "\n",
    "\n",
    "Example Output\n",
    "\n",
    "Output: \n",
    "\n",
    "10\n"
   ]
  },
  {
   "cell_type": "code",
   "execution_count": null,
   "metadata": {},
   "outputs": [],
   "source": [
    "N = int(input())\n",
    "#subtract n from 40 and print the result\n",
    "print(40-N)\n",
    "\n",
    "n = int(input())\n",
    "# subtract n from 40 and print that\n",
    "print(40 - n)"
   ]
  },
  {
   "cell_type": "markdown",
   "metadata": {},
   "source": [
    "## Q2.\n",
    "\n",
    "Output Format\n",
    "Print in a single line how many minutes are required to prepare N layers.\n",
    "\n",
    "\n",
    "Example Input\n",
    "\n",
    "Input:-\n",
    "\n",
    "2\n",
    "\n",
    "\n",
    "Example Output\n",
    "\n",
    "Output:-\n",
    "\n",
    "4\n",
    "\n",
    "\n",
    "Example Explanation\n",
    "Note: The problem constraints mean that when we test your code, the test cases used in the backend can have input values only within those constraints. You need not implement them in your code. You must ensure your code will work for all such input values!"
   ]
  },
  {
   "cell_type": "code",
   "execution_count": null,
   "metadata": {},
   "outputs": [],
   "source": [
    "def main():\n",
    "    layer = int(input())\n",
    "    # Each Layer takes 2 mins. So, n layer will take 2*n mins.\n",
    "    print(layer*2)\n",
    "    return 0\n",
    "\n",
    "if __name__ == '__main__':\n",
    "    main()"
   ]
  },
  {
   "cell_type": "markdown",
   "metadata": {},
   "source": [
    "## Q3. \n",
    "\n",
    "Problem Description\n",
    "You wrote some code to help you cook a gorgeous lasagna from your favorite cookbook. Now, you want to find the total number of minutes you've been cooking for the sum of your preparation time and the time the lasagna has already spent baking in the oven. The preparation time of one layer is 2 minutes. Given the number of layers added to the lasagna and the number of minutes the lasagna has been baking in the oven, find the total elapsed cooking time (prep + bake) in minutes.\n",
    "\n",
    "\n",
    "Problem Constraints\n",
    "1 <= N <= 20\n",
    "0 <= M <= 40\n",
    "\n",
    "\n",
    "Input Format\n",
    "There are 2 lines in the input.\n",
    "The first line contains the integer N denoting the number of layers.\n",
    "The second line contains the integer M denoting the time the lasagna has already spent baking in the oven.\n",
    "\n",
    "\n",
    "Output Format\n",
    "Print in a single line the total elapsed cooking time.\n",
    "\n",
    "\n",
    "Example Input\n",
    "\n",
    "Input 1:-\n",
    "\n",
    "3\n",
    "\n",
    "20\n",
    "\n",
    "Input 2:-\n",
    "\n",
    "1\n",
    "\n",
    "29\n",
    "\n",
    "\n",
    "Example Output\n",
    "\n",
    "Output 1:-\n",
    "\n",
    "26\n",
    "\n",
    "Output 2:-\n",
    "\n",
    "31\n"
   ]
  },
  {
   "cell_type": "code",
   "execution_count": null,
   "metadata": {},
   "outputs": [],
   "source": [
    "N = int(input())\n",
    "M = int(input())\n",
    "# preparation time + baking time = total time\n",
    "# preparation time for 1 layer is 2 mins.\n",
    "# So, preparation time for N layers will be 2*N mins\n",
    "print(2*N + M)"
   ]
  },
  {
   "cell_type": "markdown",
   "metadata": {},
   "source": [
    "## Q4. \n",
    "\n",
    "Problem Description\n",
    "Given the value of a single bill and the number of bills you received, print the total value of the bills.\n",
    "\n",
    "Note: The value of all the bills are same\n",
    "\n",
    "\n",
    "Problem Constraints\n",
    "1 <= N <= 100\n",
    "1 <= M <= 100\n",
    "\n",
    "\n",
    "Input Format\n",
    "The first line of the input is an integer N denoting the value of a single bill.\n",
    "The second line of the input is an integer M denoting the number of bills.\n",
    "\n",
    "\n",
    "Output Format\n",
    "Print in a single line denoting the total value of bills.\n",
    "\n",
    "\n",
    "Example Input\n",
    "\n",
    "Input:-\n",
    "\n",
    "12\n",
    "\n",
    "10\n",
    "\n",
    "\n",
    "Example Output\n",
    "\n",
    "Output:-\n",
    "\n",
    "120\n",
    "\n",
    "\n",
    "Example Explanation\n",
    "Note: The problem constraints mean that when we test your code, the test cases used in the backend can have input values only within those constraints. You need not implement them in your code. You need to make sure your code will work for all such input values!"
   ]
  },
  {
   "cell_type": "code",
   "execution_count": null,
   "metadata": {},
   "outputs": [],
   "source": [
    "n = int(input())\n",
    "m = int(input())\n",
    "# Value of all bills will be product of number of bills \n",
    "# and value of 1 bill\n",
    "print(n*m)\n"
   ]
  }
 ],
 "metadata": {
  "kernelspec": {
   "display_name": "Python 3.9 (tensorflow)",
   "language": "python",
   "name": "tensorflow"
  },
  "language_info": {
   "codemirror_mode": {
    "name": "ipython",
    "version": 3
   },
   "file_extension": ".py",
   "mimetype": "text/x-python",
   "name": "python",
   "nbconvert_exporter": "python",
   "pygments_lexer": "ipython3",
   "version": "3.9.18"
  }
 },
 "nbformat": 4,
 "nbformat_minor": 2
}
